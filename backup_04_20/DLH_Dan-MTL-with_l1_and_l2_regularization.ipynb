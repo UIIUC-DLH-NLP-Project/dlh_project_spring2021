{
 "cells": [
  {
   "cell_type": "code",
   "execution_count": 2,
   "metadata": {},
   "outputs": [],
   "source": [
    "import os\n",
    "import time\n",
    "import datetime\n",
    "import numpy as np\n",
    "import pandas as pd\n",
    "import sklearn\n",
    "import torch\n",
    "\n",
    "FILE_NAME_SUFFIX = \".multi_admission\" #\"_1000\"\n",
    "DATASET_PATH = \"Datasets/\"\n",
    "\n",
    "def read_samples(input_file, file_name_suffix):\n",
    "    file_name = DATASET_PATH + input_file + file_name_suffix\n",
    "    return pd.read_csv(file_name, error_bad_lines=False, keep_default_na=False)\n"
   ]
  },
  {
   "cell_type": "code",
   "execution_count": 3,
   "metadata": {},
   "outputs": [
    {
     "name": "stderr",
     "output_type": "stream",
     "text": [
      "/usr/lib/python3/dist-packages/IPython/core/interactiveshell.py:2822: DtypeWarning: Columns (8) have mixed types.Specify dtype option on import or set low_memory=False.\n",
      "  if self.run_code(code, result):\n"
     ]
    }
   ],
   "source": [
    "patients = read_samples(\"PATIENTS.csv\", FILE_NAME_SUFFIX)\n",
    "patients['birth_date'] = patients[\"DOB\"].apply(lambda s: (datetime.datetime.strptime(s, '%Y-%m-%d %H:%M:%S') - datetime.datetime(1970,1,1)).days)\n",
    "\n",
    "admissions = read_samples(\"ADMISSIONS.csv\", FILE_NAME_SUFFIX)\n",
    "admissions[\"admit_date\"] = admissions[\"ADMITTIME\"].apply(lambda s: (datetime.datetime.strptime(s, '%Y-%m-%d %H:%M:%S') - datetime.datetime(1970,1,1)).days)\n",
    "admissions[\"discharge_date\"] = admissions[\"DISCHTIME\"].apply(lambda s: (datetime.datetime.strptime(s, '%Y-%m-%d %H:%M:%S') - datetime.datetime(1970,1,1)).days)\n",
    "admissions['LOS'] = admissions[\"discharge_date\"] - admissions[\"admit_date\"]\n",
    "\n",
    "diagnoses = read_samples(\"DIAGNOSES_ICD.csv\", FILE_NAME_SUFFIX)\n",
    "procedures = read_samples(\"PROCEDURES_ICD.csv\", FILE_NAME_SUFFIX)\n",
    "icu_stays = read_samples(\"ICUSTAYS.csv\", FILE_NAME_SUFFIX)\n",
    "notes = read_samples(\"NOTEEVENTS.csv\", FILE_NAME_SUFFIX)\n"
   ]
  },
  {
   "cell_type": "code",
   "execution_count": 4,
   "metadata": {},
   "outputs": [
    {
     "name": "stdout",
     "output_type": "stream",
     "text": [
      "Limit the patients to the ones with more than 1 admission:\n",
      " count    7537.000000\n",
      "mean        2.652647\n",
      "std         1.621112\n",
      "min         2.000000\n",
      "25%         2.000000\n",
      "50%         2.000000\n",
      "75%         3.000000\n",
      "max        42.000000\n",
      "Name: num_admissions, dtype: float64\n",
      "Prevalence of patients with more than 1 admission:  1.0\n",
      "Prevalence of patients with more than 2 admissions:  0.31537747114236436\n",
      "Prevalence of patients with more than 3 admissions:  0.13732254212551412\n",
      "Prevalence of patients with more than 4 admissions:  0.06992171951704923\n",
      "Prevalence of patients with more than 5 admissions:  0.03728273849011543\n"
     ]
    }
   ],
   "source": [
    "patients = patients.set_index(\"SUBJECT_ID\", drop=False)\n",
    "patients[\"num_admissions\"] = admissions.groupby(\"SUBJECT_ID\").size().to_frame(\"num_admissions\")\n",
    "patients = patients[patients.num_admissions > 1]\n",
    "print(\"Limit the patients to the ones with more than 1 admission:\\n\", patients.num_admissions.describe())\n",
    "print(\"Prevalence of patients with more than 1 admission: \", len(patients[patients[\"num_admissions\"] > 1]) / len(patients))\n",
    "print(\"Prevalence of patients with more than 2 admissions: \", len(patients[patients[\"num_admissions\"] > 2]) / len(patients))\n",
    "print(\"Prevalence of patients with more than 3 admissions: \", len(patients[patients[\"num_admissions\"] > 3]) / len(patients))\n",
    "print(\"Prevalence of patients with more than 4 admissions: \", len(patients[patients[\"num_admissions\"] > 4]) / len(patients))\n",
    "print(\"Prevalence of patients with more than 5 admissions: \", len(patients[patients[\"num_admissions\"] > 5]) / len(patients))"
   ]
  },
  {
   "cell_type": "code",
   "execution_count": 5,
   "metadata": {},
   "outputs": [],
   "source": [
    "admissions = admissions[admissions.SUBJECT_ID.isin(patients.SUBJECT_ID)]\n",
    "procedures = procedures[procedures.SUBJECT_ID.isin(patients.SUBJECT_ID)]\n",
    "diagnoses = diagnoses[diagnoses.SUBJECT_ID.isin(patients.SUBJECT_ID)]\n",
    "icu_stays = icu_stays[icu_stays.SUBJECT_ID.isin(patients.SUBJECT_ID)]\n",
    "notes = notes[notes.SUBJECT_ID.isin(patients.SUBJECT_ID)]"
   ]
  },
  {
   "cell_type": "code",
   "execution_count": 6,
   "metadata": {},
   "outputs": [
    {
     "name": "stdout",
     "output_type": "stream",
     "text": [
      "Record length before the final admission\n",
      " count    7533.000000\n",
      "mean      242.149608\n",
      "std       579.288149\n",
      "min         0.000000\n",
      "25%         6.000000\n",
      "50%        13.000000\n",
      "75%        84.000000\n",
      "max      4145.000000\n",
      "Name: record_length, dtype: float64\n",
      "Interval before the final admission\n",
      " count    7533.000000\n",
      "mean      445.034382\n",
      "std       678.907514\n",
      "min       -19.000000\n",
      "25%        25.000000\n",
      "50%       131.000000\n",
      "75%       570.000000\n",
      "max      4108.000000\n",
      "Name: final_admission_interval, dtype: float64\n",
      "Prevalence of readmission in 30 days =  0.27517579938967757\n"
     ]
    }
   ],
   "source": [
    "last_admission = admissions[admissions.groupby(['SUBJECT_ID'])['admit_date'].transform(max) == admissions['admit_date']]\n",
    "previous_admissions = admissions[admissions.groupby(['SUBJECT_ID'])['admit_date'].transform(max) != admissions['admit_date']]\n",
    "patients[\"record_start_date\"] = previous_admissions.groupby(\"SUBJECT_ID\").admit_date.agg(['min'])\n",
    "patients[\"record_end_date\"] = previous_admissions.groupby(\"SUBJECT_ID\").discharge_date.agg(['max'])\n",
    "patients[\"record_length\"] = patients.record_end_date - patients.record_start_date\n",
    "patients[\"final_admission_date\"] = admissions.groupby(\"SUBJECT_ID\").admit_date.agg(['max'])\n",
    "patients[\"final_admission_interval\"] = patients.final_admission_date - patients.record_end_date\n",
    "\n",
    "print(\"Record length before the final admission\\n\", patients.record_length.describe())\n",
    "\n",
    "print(\"Interval before the final admission\\n\", patients.final_admission_interval.describe())\n",
    "\n",
    "print(\"Prevalence of readmission in 30 days = \", len(patients[patients.final_admission_interval < 30]) / len(patients))\n"
   ]
  },
  {
   "cell_type": "code",
   "execution_count": 7,
   "metadata": {},
   "outputs": [
    {
     "name": "stdout",
     "output_type": "stream",
     "text": [
      "Prevalence of ICU admission in 30 days =  0.006103224094467295\n"
     ]
    }
   ],
   "source": [
    "icu_stays[\"admit_date\"] = icu_stays[\"INTIME\"].apply(lambda s: (datetime.datetime.strptime(s, '%Y-%m-%d %H:%M:%S') - datetime.datetime(1970,1,1)).days)\n",
    "final_icu_admission = icu_stays[icu_stays.groupby(['SUBJECT_ID'])['admit_date'].transform(max) != icu_stays['admit_date']]\n",
    "patients[\"final_icu_admission_date\"] = final_icu_admission.groupby(\"SUBJECT_ID\").admit_date.agg(['min'])\n",
    "patients[\"final_icu_admission_interval\"] = patients.final_icu_admission_date - patients.record_end_date\n",
    "print(\"Prevalence of ICU admission in 30 days = \", len(patients[(patients[\"final_icu_admission_interval\"] >= 0) & (patients[\"final_icu_admission_interval\"] < 30)]) / len(patients))\n"
   ]
  },
  {
   "cell_type": "code",
   "execution_count": 8,
   "metadata": {},
   "outputs": [
    {
     "name": "stdout",
     "output_type": "stream",
     "text": [
      "       procedure_freq_by_icd9_code\n",
      "count                  1513.000000\n",
      "mean                     54.035030\n",
      "std                     275.114179\n",
      "min                       1.000000\n",
      "25%                       1.000000\n",
      "50%                       4.000000\n",
      "75%                      19.000000\n",
      "max                    6505.000000\n",
      "       procedure_freq_by_patient\n",
      "count                7364.000000\n",
      "mean                   11.101983\n",
      "std                     8.891169\n",
      "min                     1.000000\n",
      "25%                     5.000000\n",
      "50%                     9.000000\n",
      "75%                    15.000000\n",
      "max                    98.000000\n",
      "       procedure_freq_by_admission\n",
      "count                 17393.000000\n",
      "mean                      4.700454\n",
      "std                       3.961372\n",
      "min                       1.000000\n",
      "25%                       2.000000\n",
      "50%                       3.000000\n",
      "75%                       6.000000\n",
      "max                      40.000000\n",
      "           freq\n",
      "ICD9_CODE      \n",
      "3893       6505\n",
      "9604       3440\n",
      "966        3203\n",
      "9904       2940\n",
      "9671       2796\n",
      "9672       2225\n",
      "3995       2030\n",
      "3891       1620\n",
      "8856       1497\n",
      "9915       1364\n",
      "3961       1364\n",
      "4513       1339\n",
      "3324       1316\n",
      "8872       1218\n",
      "5491       1078\n",
      "3895        982\n",
      "3722        920\n",
      "9907        828\n",
      "3491        824\n",
      "3723        792\n"
     ]
    }
   ],
   "source": [
    "print(procedures.groupby(\"ICD9_CODE\").size().to_frame(\"procedure_freq_by_icd9_code\").describe())\n",
    "print(procedures.groupby(\"SUBJECT_ID\").size().to_frame(\"procedure_freq_by_patient\").describe())\n",
    "print(procedures.groupby(\"HADM_ID\").size().to_frame(\"procedure_freq_by_admission\").describe())\n",
    "\n",
    "print(procedures.groupby(\"ICD9_CODE\").size().to_frame(\"freq\").sort_values(\"freq\", ascending=False).head(20))"
   ]
  },
  {
   "cell_type": "code",
   "execution_count": 9,
   "metadata": {},
   "outputs": [
    {
     "name": "stdout",
     "output_type": "stream",
     "text": [
      "       diagnosis_freq_by_icd9_code\n",
      "count                  4894.000000\n",
      "mean                     53.192889\n",
      "std                     258.042880\n",
      "min                       1.000000\n",
      "25%                       1.000000\n",
      "50%                       4.000000\n",
      "75%                      20.000000\n",
      "max                    7183.000000\n",
      "       diagnosis_freq_by_patient\n",
      "count                7537.000000\n",
      "mean                   34.539737\n",
      "std                    28.731059\n",
      "min                     2.000000\n",
      "25%                    18.000000\n",
      "50%                    28.000000\n",
      "75%                    41.000000\n",
      "max                   540.000000\n",
      "       diagnosis_freq_by_admission\n",
      "count                 19993.000000\n",
      "mean                     13.020857\n",
      "std                       6.860812\n",
      "min                       1.000000\n",
      "25%                       9.000000\n",
      "50%                      11.000000\n",
      "75%                      17.000000\n",
      "max                      39.000000\n",
      "           freq\n",
      "ICD9_CODE      \n",
      "4019       7183\n",
      "4280       6588\n",
      "42731      5285\n",
      "5849       4318\n",
      "41401      4183\n",
      "25000      3738\n",
      "2724       3259\n",
      "51881      3081\n",
      "5990       2961\n",
      "53081      2623\n",
      "2449       2230\n",
      "486        2199\n",
      "2859       2186\n",
      "496        2051\n",
      "2720       2042\n",
      "2762       1915\n",
      "V4581      1820\n",
      "V5861      1819\n",
      "99592      1796\n",
      "2851       1756\n"
     ]
    }
   ],
   "source": [
    "print(diagnoses.groupby(\"ICD9_CODE\").size().to_frame(\"diagnosis_freq_by_icd9_code\").describe())\n",
    "print(diagnoses.groupby(\"SUBJECT_ID\").size().to_frame(\"diagnosis_freq_by_patient\").describe())\n",
    "print(diagnoses.groupby(\"HADM_ID\").size().to_frame(\"diagnosis_freq_by_admission\").describe())\n",
    "\n",
    "print(diagnoses.groupby(\"ICD9_CODE\").size().to_frame(\"freq\").sort_values(\"freq\", ascending=False).head(20))"
   ]
  },
  {
   "cell_type": "code",
   "execution_count": 10,
   "metadata": {},
   "outputs": [
    {
     "name": "stdout",
     "output_type": "stream",
     "text": [
      "count    739127.000000\n",
      "mean        280.506953\n",
      "std         381.865602\n",
      "min           0.000000\n",
      "25%          72.000000\n",
      "50%         160.000000\n",
      "75%         318.000000\n",
      "max        7980.000000\n",
      "Name: text_len, dtype: float64\n",
      "       notes_freq_by_patient\n",
      "count            7535.000000\n",
      "mean               98.092502\n",
      "std               117.930373\n",
      "min                 1.000000\n",
      "25%                34.000000\n",
      "50%                62.000000\n",
      "75%               116.000000\n",
      "max              1420.000000\n",
      "       notes_freq_by_admission\n",
      "count             19758.000000\n",
      "mean                 37.408999\n",
      "std                 948.520727\n",
      "min                   1.000000\n",
      "25%                   8.000000\n",
      "50%                  15.000000\n",
      "75%                  31.000000\n",
      "max              133139.000000\n"
     ]
    }
   ],
   "source": [
    "notes['text_len'] = notes['TEXT'].apply(lambda s: len(s.split()))\n",
    "print(notes[\"text_len\"].describe())\n",
    "print(notes.groupby(\"SUBJECT_ID\").size().to_frame(\"notes_freq_by_patient\").describe())\n",
    "print(notes.groupby(\"HADM_ID\").size().to_frame(\"notes_freq_by_admission\").describe())"
   ]
  },
  {
   "cell_type": "code",
   "execution_count": 11,
   "metadata": {},
   "outputs": [
    {
     "name": "stdout",
     "output_type": "stream",
     "text": [
      "count    21740.000000\n",
      "mean      1603.497148\n",
      "std        884.371393\n",
      "min          9.000000\n",
      "25%       1008.000000\n",
      "50%       1527.000000\n",
      "75%       2111.000000\n",
      "max       7980.000000\n",
      "Name: text_len, dtype: float64\n",
      "       notes_freq_by_patient\n",
      "count            7451.000000\n",
      "mean                2.917729\n",
      "std                 1.935627\n",
      "min                 1.000000\n",
      "25%                 2.000000\n",
      "50%                 2.000000\n",
      "75%                 3.000000\n",
      "max                47.000000\n",
      "       notes_freq_by_admission\n",
      "count             19050.000000\n",
      "mean                  1.141207\n",
      "std                   0.438223\n",
      "min                   1.000000\n",
      "25%                   1.000000\n",
      "50%                   1.000000\n",
      "75%                   1.000000\n",
      "max                   7.000000\n"
     ]
    }
   ],
   "source": [
    "discharge_summaries = notes[notes.CATEGORY == \"Discharge summary\"]\n",
    "print(discharge_summaries[\"text_len\"].describe())\n",
    "print(discharge_summaries.groupby(\"SUBJECT_ID\").size().to_frame(\"notes_freq_by_patient\").describe())\n",
    "print(discharge_summaries.groupby(\"HADM_ID\").size().to_frame(\"notes_freq_by_admission\").describe())"
   ]
  },
  {
   "cell_type": "code",
   "execution_count": 12,
   "metadata": {},
   "outputs": [
    {
     "name": "stdout",
     "output_type": "stream",
     "text": [
      "count    3902.000000\n",
      "mean      663.113275\n",
      "std       811.485606\n",
      "min         0.000000\n",
      "25%        80.250000\n",
      "50%       316.500000\n",
      "75%       937.750000\n",
      "max      4328.000000\n",
      "Name: death_interval, dtype: float64\n",
      "Prevalence of death in 30 days =  0.05532705320419265\n",
      "Prevalence of death =  0.5177126177524214\n"
     ]
    }
   ],
   "source": [
    "patients[\"death_date\"] = patients[\"DOD\"].apply(lambda s: (datetime.datetime.strptime(s, '%Y-%m-%d %H:%M:%S') - datetime.datetime(1970,1,1)).days if s != '' else np.nan)\n",
    "patients['death_interval'] = patients.death_date - patients.record_end_date\n",
    "print(patients['death_interval'].describe())\n",
    "print(\"Prevalence of death in 30 days = \", len(patients[patients.death_interval < 30]) / len(patients))\n",
    "print(\"Prevalence of death = \", len(patients[patients.death_interval >= 0]) / len(patients))"
   ]
  },
  {
   "cell_type": "code",
   "execution_count": 13,
   "metadata": {},
   "outputs": [
    {
     "name": "stdout",
     "output_type": "stream",
     "text": [
      "       procedure_freq_by_icd9_code\n",
      "count                  1024.000000\n",
      "mean                     79.286133\n",
      "std                     331.499928\n",
      "min                       2.000000\n",
      "25%                       4.000000\n",
      "50%                      10.500000\n",
      "75%                      38.000000\n",
      "max                    6505.000000\n",
      "       procedure_freq_by_patient\n",
      "count                7361.000000\n",
      "mean                   11.029616\n",
      "std                     8.854558\n",
      "min                     1.000000\n",
      "25%                     5.000000\n",
      "50%                     9.000000\n",
      "75%                    15.000000\n",
      "max                    98.000000\n",
      "       procedure_freq_by_admission\n",
      "count                 17355.000000\n",
      "mean                      4.678133\n",
      "std                       3.937743\n",
      "min                       1.000000\n",
      "25%                       2.000000\n",
      "50%                       3.000000\n",
      "75%                       6.000000\n",
      "max                      39.000000\n"
     ]
    }
   ],
   "source": [
    "# Limit the procedures to the most common procedures\n",
    "NUM_PROCEDURE_CODES = 1024\n",
    "top_procedures = procedures.groupby(\"ICD9_CODE\").size().to_frame(\"freq\").sort_values(\"freq\", ascending=False).head(NUM_PROCEDURE_CODES).index.tolist()\n",
    "procedures = procedures[procedures.ICD9_CODE.isin(top_procedures)]\n",
    "print(procedures.groupby(\"ICD9_CODE\").size().to_frame(\"procedure_freq_by_icd9_code\").describe())\n",
    "print(procedures.groupby(\"SUBJECT_ID\").size().to_frame(\"procedure_freq_by_patient\").describe())\n",
    "print(procedures.groupby(\"HADM_ID\").size().to_frame(\"procedure_freq_by_admission\").describe())"
   ]
  },
  {
   "cell_type": "code",
   "execution_count": 14,
   "metadata": {},
   "outputs": [
    {
     "name": "stdout",
     "output_type": "stream",
     "text": [
      "       diagnosis_freq_by_icd9_code\n",
      "count                  4096.000000\n",
      "mean                     63.361328\n",
      "std                     280.940588\n",
      "min                       1.000000\n",
      "25%                       2.000000\n",
      "50%                       7.000000\n",
      "75%                      28.000000\n",
      "max                    7183.000000\n",
      "       diagnosis_freq_by_patient\n",
      "count                7537.000000\n",
      "mean                   34.433860\n",
      "std                    28.696845\n",
      "min                     2.000000\n",
      "25%                    18.000000\n",
      "50%                    27.000000\n",
      "75%                    41.000000\n",
      "max                   539.000000\n",
      "       diagnosis_freq_by_admission\n",
      "count                 19990.000000\n",
      "mean                     12.982891\n",
      "std                       6.851016\n",
      "min                       1.000000\n",
      "25%                       9.000000\n",
      "50%                      11.000000\n",
      "75%                      17.000000\n",
      "max                      39.000000\n"
     ]
    }
   ],
   "source": [
    "# Limit the diagnoses to the most common diagnoses\n",
    "NUM_DIAGNOSIS_CODES = 4096\n",
    "top_diagnoses = diagnoses.groupby(\"ICD9_CODE\").size().to_frame(\"freq\").sort_values(\"freq\", ascending=False).head(NUM_DIAGNOSIS_CODES).index.tolist()\n",
    "diagnoses = diagnoses[diagnoses.ICD9_CODE.isin(top_diagnoses)]\n",
    "print(diagnoses.groupby(\"ICD9_CODE\").size().to_frame(\"diagnosis_freq_by_icd9_code\").describe())\n",
    "print(diagnoses.groupby(\"SUBJECT_ID\").size().to_frame(\"diagnosis_freq_by_patient\").describe())\n",
    "print(diagnoses.groupby(\"HADM_ID\").size().to_frame(\"diagnosis_freq_by_admission\").describe())"
   ]
  },
  {
   "cell_type": "code",
   "execution_count": 15,
   "metadata": {},
   "outputs": [
    {
     "name": "stdout",
     "output_type": "stream",
     "text": [
      "7537\n"
     ]
    }
   ],
   "source": [
    "from torch.utils.data import Dataset\n",
    "\n",
    "other_admission_info_dim = 2 # age and LOS\n",
    "\n",
    "class CustomDataset(Dataset):\n",
    "    \n",
    "    def __init__(self, patients, admissions, procedures, top_procedures, diagnoses, top_diagnoses, prediction_window):\n",
    "        top_procedures_dict = dict(zip(top_procedures, range(len(top_procedures))))\n",
    "        top_diagnoses_dict = dict(zip(top_diagnoses, range(len(top_procedures), len(top_procedures) + len(top_diagnoses))))\n",
    "        self.x = []\n",
    "        self.y = []\n",
    "        for _, patient in patients.iterrows():\n",
    "            patient_admissions = []\n",
    "            for _, admission in admissions[admissions.SUBJECT_ID == patient.SUBJECT_ID].iterrows():\n",
    "                icd9_codes = []\n",
    "                for _, admission_procedure in procedures[procedures.HADM_ID == admission.HADM_ID].iterrows():\n",
    "                    icd9_codes.append(top_procedures_dict[admission_procedure.ICD9_CODE])\n",
    "                for _, admission_diagnosis in diagnoses[diagnoses.HADM_ID == admission.HADM_ID].iterrows():\n",
    "                    icd9_codes.append(top_diagnoses_dict[admission_diagnosis.ICD9_CODE])\n",
    "                other_info = [(admission.admit_date - patient.birth_date) / 36500.0, admission.LOS / 100.0]\n",
    "                patient_admissions.append((other_info, icd9_codes))\n",
    "            self.x.append(patient_admissions)\n",
    "            self.y.append([patient.final_admission_interval < prediction_window, patient.death_interval < prediction_window])\n",
    "            # self.y.append(patient.final_admission_interval < prediction_window)\n",
    "    \n",
    "    def __len__(self):\n",
    "        return len(self.x)\n",
    "    \n",
    "    def __getitem__(self, index):\n",
    "        return self.x[index], self.y[index]\n",
    "        \n",
    "\n",
    "dataset = CustomDataset(patients, previous_admissions, procedures, top_procedures, diagnoses, top_diagnoses, 30)\n",
    "print(len(dataset))\n",
    "# for i in range(len(dataset)):\n",
    "#     x, y = dataset[i]\n",
    "#     print(y)"
   ]
  },
  {
   "cell_type": "code",
   "execution_count": 16,
   "metadata": {},
   "outputs": [],
   "source": [
    "def collate_fn(data):\n",
    "    \"\"\"\n",
    "    TODO: Collate the the list of samples into batches. For each patient, you need to pad the diagnosis\n",
    "        sequences to the sample shape (max # visits, encoding size). The padding infomation\n",
    "        is stored in `mask`.\n",
    "    \n",
    "    Arguments:\n",
    "        data: a list of samples fetched from `CustomDataset`\n",
    "        \n",
    "    Outputs:\n",
    "        x: a tensor of shape (# patiens, max # visits, encoding size) of type torch.long\n",
    "        masks: a tensor of shape (# patiens, max # visits, encoding size) of type torch.bool\n",
    "        y: a tensor of shape (# patiens) of type torch.float\n",
    "    \"\"\"\n",
    "\n",
    "    sequences, labels = zip(*data)\n",
    "    num_patients = len(sequences)\n",
    "    max_admissions = 0\n",
    "    max_icd9_codes = 0\n",
    "    for sequence in sequences:\n",
    "        max_admissions = max(max_admissions, len(sequence))\n",
    "        for admission in sequence:\n",
    "            (other_info, icd9_codes) = admission\n",
    "            max_icd9_codes = max(max_icd9_codes, len(icd9_codes))\n",
    "    \n",
    "    dim = (num_patients, max_admissions, max_icd9_codes)\n",
    "    x_data = np.zeros(dim)\n",
    "    x_other_data = np.zeros((num_patients, max_admissions, other_admission_info_dim))\n",
    "    masks_data = np.full(dim, False)\n",
    "    \n",
    "    for i, sequence in enumerate(sequences):\n",
    "        num_admissions = len(sequence)\n",
    "        for j, admission in enumerate(sequence):\n",
    "            (other_info, icd9_codes) = admission\n",
    "            for k, icd9_code in enumerate(icd9_codes):\n",
    "                x_data[i][j][k] = icd9_code\n",
    "                masks_data[i][j][k] = True\n",
    "            for k, other_admission_info in enumerate(other_info):\n",
    "                x_other_data[i][j][k] = other_admission_info\n",
    "       \n",
    "    x = torch.tensor(x_data, dtype=torch.long)\n",
    "    x_other = torch.tensor(x_other_data, dtype=torch.float)\n",
    "    masks = torch.tensor(masks_data, dtype=torch.bool)\n",
    "    y = torch.tensor(labels, dtype=torch.float)\n",
    "    \n",
    "    return x, x_other, masks, y"
   ]
  },
  {
   "cell_type": "code",
   "execution_count": 17,
   "metadata": {},
   "outputs": [
    {
     "name": "stdout",
     "output_type": "stream",
     "text": [
      "torch.Size([10, 5, 39]) torch.Size([10, 5, 2]) torch.Size([10, 5, 39]) torch.Size([10, 2])\n"
     ]
    }
   ],
   "source": [
    "from torch.utils.data import DataLoader\n",
    "\n",
    "loader = DataLoader(dataset, batch_size=10, collate_fn=collate_fn)\n",
    "loader_iter = iter(loader)\n",
    "x, x_other, masks, y = next(loader_iter)\n",
    "print(x.shape, x_other.shape, masks.shape, y.shape)"
   ]
  },
  {
   "cell_type": "code",
   "execution_count": 18,
   "metadata": {},
   "outputs": [
    {
     "name": "stdout",
     "output_type": "stream",
     "text": [
      "Length of train dataset: 5652\n",
      "Length of val dataset: 1885\n"
     ]
    }
   ],
   "source": [
    "from torch.utils.data.dataset import random_split\n",
    "\n",
    "split = int(len(dataset)*0.75)\n",
    "\n",
    "lengths = [split, len(dataset) - split]\n",
    "train_dataset, val_dataset = random_split(dataset, lengths)\n",
    "\n",
    "print(\"Length of train dataset:\", len(train_dataset))\n",
    "print(\"Length of val dataset:\", len(val_dataset))"
   ]
  },
  {
   "cell_type": "code",
   "execution_count": 19,
   "metadata": {},
   "outputs": [],
   "source": [
    "from torch.utils.data import DataLoader\n",
    "\n",
    "def load_data(train_dataset, val_dataset, collate_fn):\n",
    "    train_loader = DataLoader(train_dataset, batch_size=32, shuffle=True, collate_fn=collate_fn)\n",
    "    val_loader = DataLoader(val_dataset, batch_size=32, shuffle=False, collate_fn=collate_fn)\n",
    "    \n",
    "    return train_loader, val_loader\n",
    "\n",
    "\n",
    "train_loader, val_loader = load_data(train_dataset, val_dataset, collate_fn)\n",
    "combined_loader = DataLoader(dataset, batch_size=32, shuffle=True, collate_fn=collate_fn)"
   ]
  },
  {
   "cell_type": "code",
   "execution_count": 20,
   "metadata": {},
   "outputs": [],
   "source": [
    "def sum_embeddings_with_mask(x, masks):\n",
    "    (batch_size, visits, diags, embedding_dim) = x.shape\n",
    "    masks = masks.unsqueeze(3).expand(batch_size, visits, diags, embedding_dim)\n",
    "    output = torch.sum(x * masks, dim=2)\n",
    "    return output"
   ]
  },
  {
   "cell_type": "code",
   "execution_count": 21,
   "metadata": {},
   "outputs": [],
   "source": [
    "def get_last_visit(hidden_states, masks):\n",
    "    batch_size, visits, embedding_dim = hidden_states.shape\n",
    "    masks = torch.sum(masks, 2)\n",
    "    masks = torch.min(masks, torch.ones_like(masks))\n",
    "    masks = torch.sum(masks, 1)\n",
    "    masks = masks - torch.ones_like(masks)\n",
    "    masks = masks.unsqueeze(1).expand(batch_size, embedding_dim).unsqueeze(1)\n",
    "    masks = torch.max(masks, torch.zeros_like(masks)) # FIXME: data cleaning problem! some patients have no admission\n",
    "    last_visit = torch.gather(hidden_states, 1, masks)\n",
    "    last_visit = torch.flatten(last_visit, 1, 2)\n",
    "    return last_visit"
   ]
  },
  {
   "cell_type": "code",
   "execution_count": 22,
   "metadata": {},
   "outputs": [
    {
     "data": {
      "text/plain": [
       "NaiveRNN(\n",
       "  (embedding): Embedding(5120, 128)\n",
       "  (rnn): GRU(130, 64, batch_first=True)\n",
       "  (linear1): Linear(in_features=64, out_features=64, bias=True)\n",
       "  (activation1): ReLU()\n",
       "  (linear2): Linear(in_features=64, out_features=2, bias=True)\n",
       "  (activation2): Sigmoid()\n",
       ")"
      ]
     },
     "execution_count": 22,
     "metadata": {},
     "output_type": "execute_result"
    }
   ],
   "source": [
    "class NaiveRNN(torch.nn.Module):\n",
    "    def __init__(self, num_embeddings, embedding_size, other_admission_info_dim, hidden_state_size, output_size):\n",
    "        super().__init__()\n",
    "        self.hidden_state_size = hidden_state_size\n",
    "        self.embedding = torch.nn.Embedding(num_embeddings, embedding_size)\n",
    "        self.rnn = torch.nn.GRU(embedding_size + other_admission_info_dim, hidden_state_size, batch_first=True)\n",
    "        self.linear1 = torch.nn.Linear(hidden_state_size, hidden_state_size)\n",
    "        self.activation1 = torch.nn.ReLU()\n",
    "        # self.dropout = torch.nn.Dropout(p=0.5)\n",
    "        self.linear2 = torch.nn.Linear(hidden_state_size, output_size)\n",
    "        self.activation2 = torch.nn.Sigmoid()\n",
    "    \n",
    "    \n",
    "    def forward(self, x, x_other, masks):\n",
    "        (batch_size, num_admissions, _) = x.shape\n",
    "        hidden_state = torch.zeros(1, batch_size, self.hidden_state_size)\n",
    "        hidden_states = []\n",
    "        embeddings = self.embedding(x)\n",
    "        sum_embeddings = sum_embeddings_with_mask(embeddings, masks)\n",
    "        combined_admission_info = torch.cat((sum_embeddings, x_other), 2)\n",
    "        output, _ = self.rnn(combined_admission_info)\n",
    "        output = get_last_visit(output, masks)\n",
    "        output = self.activation1(self.linear1(output))\n",
    "        # output = self.dropout(output)\n",
    "        output = self.activation2(self.linear2(output))\n",
    "        return output.squeeze()\n",
    "    \n",
    "\n",
    "# load the model here\n",
    "naive_rnn = NaiveRNN(num_embeddings=len(top_procedures)+len(top_diagnoses), embedding_size = 128, other_admission_info_dim=other_admission_info_dim, hidden_state_size=64, output_size=2)\n",
    "naive_rnn"
   ]
  },
  {
   "cell_type": "code",
   "execution_count": 23,
   "metadata": {},
   "outputs": [],
   "source": [
    "criterion = torch.nn.BCELoss()\n",
    "optimizer = torch.optim.Adam(naive_rnn.parameters(), lr=0.001)"
   ]
  },
  {
   "cell_type": "code",
   "execution_count": 24,
   "metadata": {},
   "outputs": [],
   "source": [
    "from sklearn.metrics import precision_recall_fscore_support, roc_auc_score\n",
    "\n",
    "\n",
    "def eval_model(model, val_loader):\n",
    "    model.eval()\n",
    "    Y1_pred = []\n",
    "    Y1_true = []\n",
    "    Y2_pred = []\n",
    "    Y2_true = []\n",
    "    for x, x_other, masks, y in val_loader:\n",
    "        with torch.no_grad():\n",
    "            pred = model(x, x_other, masks)\n",
    "            # Y1_true.extend(y.detach().numpy().tolist())\n",
    "            # Y1_pred.extend(pred.detach().numpy().reshape(-1).tolist())\n",
    "            Y1_true.extend(y.detach().numpy()[:,0].tolist())\n",
    "            Y1_pred.extend(pred.detach().numpy()[:,0].reshape(-1).tolist())\n",
    "            Y2_true.extend(y.detach().numpy()[:,1].tolist())\n",
    "            Y2_pred.extend(pred.detach().numpy()[:,1].reshape(-1).tolist())\n",
    "    \n",
    "    # print(len(Y1_true), len(Y1_pred), len(Y2_true), len(Y2_pred))\n",
    "    precision1, recall1, f11, _ = precision_recall_fscore_support(Y1_true, np.array(Y1_pred)>0.5, average='binary')\n",
    "    roc_auc1 = roc_auc_score(Y1_true, Y1_pred)\n",
    "    precision2, recall2, f12, _ = precision_recall_fscore_support(Y2_true, np.array(Y2_pred)>0.5, average='binary')\n",
    "    roc_auc2 = roc_auc_score(Y2_true, Y2_pred)\n",
    "    \n",
    "    return precision1, recall1, f11, roc_auc1, precision2, recall2, f12, roc_auc2, len(Y1_pred), sum(Y1_true), sum(Y2_true)"
   ]
  },
  {
   "cell_type": "code",
   "execution_count": 25,
   "metadata": {},
   "outputs": [
    {
     "name": "stdout",
     "output_type": "stream",
     "text": [
      "Task1: N=1885 Prevalence=0.267 P=0.283 R=0.315 F1=0.299 ROC AUC=0.520\n",
      "Task2: N=1885 Prevalence=0.062 P=0.066 R=0.776 F1=0.121 ROC AUC=0.536\n"
     ]
    }
   ],
   "source": [
    "# precision1, recall1, f11, roc_auc1 = eval_model(naive_rnn, val_loader)\n",
    "# print('Task1: P={:.3f} R={:.3f} F1={:.3f} ROC AUC={:.3f}'.format(precision1, recall1, f11, roc_auc1))\n",
    "\n",
    "precision1, recall1, f11, roc_auc1, precision2, recall2, f12, roc_auc2, n, p1, p2 = eval_model(naive_rnn, val_loader)\n",
    "print('Task1: N={} Prevalence={:.3f} P={:.3f} R={:.3f} F1={:.3f} ROC AUC={:.3f}'.format(n, p1/n, precision1, recall1, f11, roc_auc1))\n",
    "print('Task2: N={} Prevalence={:.3f} P={:.3f} R={:.3f} F1={:.3f} ROC AUC={:.3f}'.format(n, p2/n, precision2, recall2, f12, roc_auc2))"
   ]
  },
  {
   "cell_type": "code",
   "execution_count": 26,
   "metadata": {},
   "outputs": [
    {
     "name": "stdout",
     "output_type": "stream",
     "text": [
      "Epoch 0: training loss = 220.62539565563202  validation loss = 25.605200052261353\n"
     ]
    },
    {
     "name": "stderr",
     "output_type": "stream",
     "text": [
      "/usr/local/lib/python3.6/dist-packages/sklearn/metrics/_classification.py:1245: UndefinedMetricWarning: Precision and F-score are ill-defined and being set to 0.0 due to no predicted samples. Use `zero_division` parameter to control this behavior.\n",
      "  _warn_prf(average, modifier, msg_start, len(result))\n",
      "/usr/local/lib/python3.6/dist-packages/sklearn/metrics/_classification.py:1245: UndefinedMetricWarning: Precision and F-score are ill-defined and being set to 0.0 due to no predicted samples. Use `zero_division` parameter to control this behavior.\n",
      "  _warn_prf(average, modifier, msg_start, len(result))\n"
     ]
    },
    {
     "name": "stdout",
     "output_type": "stream",
     "text": [
      "  Validation Set N=1885\n",
      "\tTask1: P=0.000 R=0.000 F1=0.000 ROC AUC=0.525 Prevalence=0.267 \n",
      "\tTask2: P=0.000 R=0.000 F1=0.000 ROC AUC=0.448 Prevalence=0.062\n"
     ]
    },
    {
     "name": "stderr",
     "output_type": "stream",
     "text": [
      "/usr/local/lib/python3.6/dist-packages/sklearn/metrics/_classification.py:1245: UndefinedMetricWarning: Precision and F-score are ill-defined and being set to 0.0 due to no predicted samples. Use `zero_division` parameter to control this behavior.\n",
      "  _warn_prf(average, modifier, msg_start, len(result))\n",
      "/usr/local/lib/python3.6/dist-packages/sklearn/metrics/_classification.py:1245: UndefinedMetricWarning: Precision and F-score are ill-defined and being set to 0.0 due to no predicted samples. Use `zero_division` parameter to control this behavior.\n",
      "  _warn_prf(average, modifier, msg_start, len(result))\n"
     ]
    },
    {
     "name": "stdout",
     "output_type": "stream",
     "text": [
      "  Training Set N=5652\n",
      "\tTask1: P=0.000 R=0.000 F1=0.000 ROC AUC=0.552 Prevalence=0.278 \n",
      "\tTask2: P=0.000 R=0.000 F1=0.000 ROC AUC=0.519 Prevalence=0.053\n",
      "Epoch 1: training loss = 92.99131834506989  validation loss = 24.337401539087296\n"
     ]
    },
    {
     "name": "stderr",
     "output_type": "stream",
     "text": [
      "/usr/local/lib/python3.6/dist-packages/sklearn/metrics/_classification.py:1245: UndefinedMetricWarning: Precision and F-score are ill-defined and being set to 0.0 due to no predicted samples. Use `zero_division` parameter to control this behavior.\n",
      "  _warn_prf(average, modifier, msg_start, len(result))\n",
      "/usr/local/lib/python3.6/dist-packages/sklearn/metrics/_classification.py:1245: UndefinedMetricWarning: Precision and F-score are ill-defined and being set to 0.0 due to no predicted samples. Use `zero_division` parameter to control this behavior.\n",
      "  _warn_prf(average, modifier, msg_start, len(result))\n"
     ]
    },
    {
     "name": "stdout",
     "output_type": "stream",
     "text": [
      "  Validation Set N=1885\n",
      "\tTask1: P=0.000 R=0.000 F1=0.000 ROC AUC=0.534 Prevalence=0.267 \n",
      "\tTask2: P=0.000 R=0.000 F1=0.000 ROC AUC=0.461 Prevalence=0.062\n"
     ]
    },
    {
     "name": "stderr",
     "output_type": "stream",
     "text": [
      "/usr/local/lib/python3.6/dist-packages/sklearn/metrics/_classification.py:1245: UndefinedMetricWarning: Precision and F-score are ill-defined and being set to 0.0 due to no predicted samples. Use `zero_division` parameter to control this behavior.\n",
      "  _warn_prf(average, modifier, msg_start, len(result))\n",
      "/usr/local/lib/python3.6/dist-packages/sklearn/metrics/_classification.py:1245: UndefinedMetricWarning: Precision and F-score are ill-defined and being set to 0.0 due to no predicted samples. Use `zero_division` parameter to control this behavior.\n",
      "  _warn_prf(average, modifier, msg_start, len(result))\n"
     ]
    },
    {
     "name": "stdout",
     "output_type": "stream",
     "text": [
      "  Training Set N=5652\n",
      "\tTask1: P=0.000 R=0.000 F1=0.000 ROC AUC=0.580 Prevalence=0.278 \n",
      "\tTask2: P=0.000 R=0.000 F1=0.000 ROC AUC=0.575 Prevalence=0.053\n",
      "Epoch 2: training loss = 86.45186471939087  validation loss = 24.17557656764984\n"
     ]
    },
    {
     "name": "stderr",
     "output_type": "stream",
     "text": [
      "/usr/local/lib/python3.6/dist-packages/sklearn/metrics/_classification.py:1245: UndefinedMetricWarning: Precision and F-score are ill-defined and being set to 0.0 due to no predicted samples. Use `zero_division` parameter to control this behavior.\n",
      "  _warn_prf(average, modifier, msg_start, len(result))\n",
      "/usr/local/lib/python3.6/dist-packages/sklearn/metrics/_classification.py:1245: UndefinedMetricWarning: Precision and F-score are ill-defined and being set to 0.0 due to no predicted samples. Use `zero_division` parameter to control this behavior.\n",
      "  _warn_prf(average, modifier, msg_start, len(result))\n"
     ]
    },
    {
     "name": "stdout",
     "output_type": "stream",
     "text": [
      "  Validation Set N=1885\n",
      "\tTask1: P=0.000 R=0.000 F1=0.000 ROC AUC=0.534 Prevalence=0.267 \n",
      "\tTask2: P=0.000 R=0.000 F1=0.000 ROC AUC=0.482 Prevalence=0.062\n"
     ]
    },
    {
     "name": "stderr",
     "output_type": "stream",
     "text": [
      "/usr/local/lib/python3.6/dist-packages/sklearn/metrics/_classification.py:1245: UndefinedMetricWarning: Precision and F-score are ill-defined and being set to 0.0 due to no predicted samples. Use `zero_division` parameter to control this behavior.\n",
      "  _warn_prf(average, modifier, msg_start, len(result))\n",
      "/usr/local/lib/python3.6/dist-packages/sklearn/metrics/_classification.py:1245: UndefinedMetricWarning: Precision and F-score are ill-defined and being set to 0.0 due to no predicted samples. Use `zero_division` parameter to control this behavior.\n",
      "  _warn_prf(average, modifier, msg_start, len(result))\n"
     ]
    },
    {
     "name": "stdout",
     "output_type": "stream",
     "text": [
      "  Training Set N=5652\n",
      "\tTask1: P=0.000 R=0.000 F1=0.000 ROC AUC=0.610 Prevalence=0.278 \n",
      "\tTask2: P=0.000 R=0.000 F1=0.000 ROC AUC=0.634 Prevalence=0.053\n",
      "Epoch 3: training loss = 82.93911865353584  validation loss = 24.143124014139175\n"
     ]
    },
    {
     "name": "stderr",
     "output_type": "stream",
     "text": [
      "/usr/local/lib/python3.6/dist-packages/sklearn/metrics/_classification.py:1245: UndefinedMetricWarning: Precision and F-score are ill-defined and being set to 0.0 due to no predicted samples. Use `zero_division` parameter to control this behavior.\n",
      "  _warn_prf(average, modifier, msg_start, len(result))\n",
      "/usr/local/lib/python3.6/dist-packages/sklearn/metrics/_classification.py:1245: UndefinedMetricWarning: Precision and F-score are ill-defined and being set to 0.0 due to no predicted samples. Use `zero_division` parameter to control this behavior.\n",
      "  _warn_prf(average, modifier, msg_start, len(result))\n"
     ]
    },
    {
     "name": "stdout",
     "output_type": "stream",
     "text": [
      "  Validation Set N=1885\n",
      "\tTask1: P=0.000 R=0.000 F1=0.000 ROC AUC=0.539 Prevalence=0.267 \n",
      "\tTask2: P=0.000 R=0.000 F1=0.000 ROC AUC=0.507 Prevalence=0.062\n"
     ]
    },
    {
     "name": "stderr",
     "output_type": "stream",
     "text": [
      "/usr/local/lib/python3.6/dist-packages/sklearn/metrics/_classification.py:1245: UndefinedMetricWarning: Precision and F-score are ill-defined and being set to 0.0 due to no predicted samples. Use `zero_division` parameter to control this behavior.\n",
      "  _warn_prf(average, modifier, msg_start, len(result))\n",
      "/usr/local/lib/python3.6/dist-packages/sklearn/metrics/_classification.py:1245: UndefinedMetricWarning: Precision and F-score are ill-defined and being set to 0.0 due to no predicted samples. Use `zero_division` parameter to control this behavior.\n",
      "  _warn_prf(average, modifier, msg_start, len(result))\n"
     ]
    },
    {
     "name": "stdout",
     "output_type": "stream",
     "text": [
      "  Training Set N=5652\n",
      "\tTask1: P=0.000 R=0.000 F1=0.000 ROC AUC=0.645 Prevalence=0.278 \n",
      "\tTask2: P=0.000 R=0.000 F1=0.000 ROC AUC=0.678 Prevalence=0.053\n",
      "Epoch 4: training loss = 80.30845308303833  validation loss = 23.897004663944244\n"
     ]
    },
    {
     "name": "stderr",
     "output_type": "stream",
     "text": [
      "/usr/local/lib/python3.6/dist-packages/sklearn/metrics/_classification.py:1245: UndefinedMetricWarning: Precision and F-score are ill-defined and being set to 0.0 due to no predicted samples. Use `zero_division` parameter to control this behavior.\n",
      "  _warn_prf(average, modifier, msg_start, len(result))\n",
      "/usr/local/lib/python3.6/dist-packages/sklearn/metrics/_classification.py:1245: UndefinedMetricWarning: Precision and F-score are ill-defined and being set to 0.0 due to no predicted samples. Use `zero_division` parameter to control this behavior.\n",
      "  _warn_prf(average, modifier, msg_start, len(result))\n"
     ]
    },
    {
     "name": "stdout",
     "output_type": "stream",
     "text": [
      "  Validation Set N=1885\n",
      "\tTask1: P=0.000 R=0.000 F1=0.000 ROC AUC=0.552 Prevalence=0.267 \n",
      "\tTask2: P=0.000 R=0.000 F1=0.000 ROC AUC=0.519 Prevalence=0.062\n"
     ]
    },
    {
     "name": "stderr",
     "output_type": "stream",
     "text": [
      "/usr/local/lib/python3.6/dist-packages/sklearn/metrics/_classification.py:1245: UndefinedMetricWarning: Precision and F-score are ill-defined and being set to 0.0 due to no predicted samples. Use `zero_division` parameter to control this behavior.\n",
      "  _warn_prf(average, modifier, msg_start, len(result))\n",
      "/usr/local/lib/python3.6/dist-packages/sklearn/metrics/_classification.py:1245: UndefinedMetricWarning: Precision and F-score are ill-defined and being set to 0.0 due to no predicted samples. Use `zero_division` parameter to control this behavior.\n",
      "  _warn_prf(average, modifier, msg_start, len(result))\n"
     ]
    },
    {
     "name": "stdout",
     "output_type": "stream",
     "text": [
      "  Training Set N=5652\n",
      "\tTask1: P=0.000 R=0.000 F1=0.000 ROC AUC=0.673 Prevalence=0.278 \n",
      "\tTask2: P=0.000 R=0.000 F1=0.000 ROC AUC=0.721 Prevalence=0.053\n",
      "Epoch 5: training loss = 77.82453709840775  validation loss = 23.89014746248722\n"
     ]
    },
    {
     "name": "stderr",
     "output_type": "stream",
     "text": [
      "/usr/local/lib/python3.6/dist-packages/sklearn/metrics/_classification.py:1245: UndefinedMetricWarning: Precision and F-score are ill-defined and being set to 0.0 due to no predicted samples. Use `zero_division` parameter to control this behavior.\n",
      "  _warn_prf(average, modifier, msg_start, len(result))\n"
     ]
    },
    {
     "name": "stdout",
     "output_type": "stream",
     "text": [
      "  Validation Set N=1885\n",
      "\tTask1: P=0.667 R=0.004 F1=0.008 ROC AUC=0.554 Prevalence=0.267 \n",
      "\tTask2: P=0.000 R=0.000 F1=0.000 ROC AUC=0.520 Prevalence=0.062\n"
     ]
    },
    {
     "name": "stderr",
     "output_type": "stream",
     "text": [
      "/usr/local/lib/python3.6/dist-packages/sklearn/metrics/_classification.py:1245: UndefinedMetricWarning: Precision and F-score are ill-defined and being set to 0.0 due to no predicted samples. Use `zero_division` parameter to control this behavior.\n",
      "  _warn_prf(average, modifier, msg_start, len(result))\n"
     ]
    },
    {
     "name": "stdout",
     "output_type": "stream",
     "text": [
      "  Training Set N=5652\n",
      "\tTask1: P=0.909 R=0.019 F1=0.037 ROC AUC=0.701 Prevalence=0.278 \n",
      "\tTask2: P=0.000 R=0.000 F1=0.000 ROC AUC=0.749 Prevalence=0.053\n",
      "Epoch 6: training loss = 75.90983256697655  validation loss = 23.908585399389267\n"
     ]
    },
    {
     "name": "stderr",
     "output_type": "stream",
     "text": [
      "/usr/local/lib/python3.6/dist-packages/sklearn/metrics/_classification.py:1245: UndefinedMetricWarning: Precision and F-score are ill-defined and being set to 0.0 due to no predicted samples. Use `zero_division` parameter to control this behavior.\n",
      "  _warn_prf(average, modifier, msg_start, len(result))\n"
     ]
    },
    {
     "name": "stdout",
     "output_type": "stream",
     "text": [
      "  Validation Set N=1885\n",
      "\tTask1: P=0.625 R=0.010 F1=0.020 ROC AUC=0.557 Prevalence=0.267 \n",
      "\tTask2: P=0.000 R=0.000 F1=0.000 ROC AUC=0.530 Prevalence=0.062\n"
     ]
    },
    {
     "name": "stderr",
     "output_type": "stream",
     "text": [
      "/usr/local/lib/python3.6/dist-packages/sklearn/metrics/_classification.py:1245: UndefinedMetricWarning: Precision and F-score are ill-defined and being set to 0.0 due to no predicted samples. Use `zero_division` parameter to control this behavior.\n",
      "  _warn_prf(average, modifier, msg_start, len(result))\n"
     ]
    },
    {
     "name": "stdout",
     "output_type": "stream",
     "text": [
      "  Training Set N=5652\n",
      "\tTask1: P=0.921 R=0.022 F1=0.044 ROC AUC=0.735 Prevalence=0.278 \n",
      "\tTask2: P=0.000 R=0.000 F1=0.000 ROC AUC=0.787 Prevalence=0.053\n",
      "Epoch 7: training loss = 73.92740121483803  validation loss = 24.041319668293\n"
     ]
    },
    {
     "name": "stderr",
     "output_type": "stream",
     "text": [
      "/usr/local/lib/python3.6/dist-packages/sklearn/metrics/_classification.py:1245: UndefinedMetricWarning: Precision and F-score are ill-defined and being set to 0.0 due to no predicted samples. Use `zero_division` parameter to control this behavior.\n",
      "  _warn_prf(average, modifier, msg_start, len(result))\n"
     ]
    },
    {
     "name": "stdout",
     "output_type": "stream",
     "text": [
      "  Validation Set N=1885\n",
      "\tTask1: P=0.545 R=0.012 F1=0.023 ROC AUC=0.557 Prevalence=0.267 \n",
      "\tTask2: P=0.000 R=0.000 F1=0.000 ROC AUC=0.519 Prevalence=0.062\n"
     ]
    },
    {
     "name": "stderr",
     "output_type": "stream",
     "text": [
      "/usr/local/lib/python3.6/dist-packages/sklearn/metrics/_classification.py:1245: UndefinedMetricWarning: Precision and F-score are ill-defined and being set to 0.0 due to no predicted samples. Use `zero_division` parameter to control this behavior.\n",
      "  _warn_prf(average, modifier, msg_start, len(result))\n"
     ]
    },
    {
     "name": "stdout",
     "output_type": "stream",
     "text": [
      "  Training Set N=5652\n",
      "\tTask1: P=0.946 R=0.034 F1=0.065 ROC AUC=0.756 Prevalence=0.278 \n",
      "\tTask2: P=0.000 R=0.000 F1=0.000 ROC AUC=0.811 Prevalence=0.053\n",
      "Epoch 8: training loss = 71.94402864575386  validation loss = 24.14597614109516\n"
     ]
    },
    {
     "name": "stderr",
     "output_type": "stream",
     "text": [
      "/usr/local/lib/python3.6/dist-packages/sklearn/metrics/_classification.py:1245: UndefinedMetricWarning: Precision and F-score are ill-defined and being set to 0.0 due to no predicted samples. Use `zero_division` parameter to control this behavior.\n",
      "  _warn_prf(average, modifier, msg_start, len(result))\n"
     ]
    },
    {
     "name": "stdout",
     "output_type": "stream",
     "text": [
      "  Validation Set N=1885\n",
      "\tTask1: P=0.412 R=0.014 F1=0.027 ROC AUC=0.559 Prevalence=0.267 \n",
      "\tTask2: P=0.000 R=0.000 F1=0.000 ROC AUC=0.527 Prevalence=0.062\n"
     ]
    },
    {
     "name": "stderr",
     "output_type": "stream",
     "text": [
      "/usr/local/lib/python3.6/dist-packages/sklearn/metrics/_classification.py:1245: UndefinedMetricWarning: Precision and F-score are ill-defined and being set to 0.0 due to no predicted samples. Use `zero_division` parameter to control this behavior.\n",
      "  _warn_prf(average, modifier, msg_start, len(result))\n"
     ]
    },
    {
     "name": "stdout",
     "output_type": "stream",
     "text": [
      "  Training Set N=5652\n",
      "\tTask1: P=0.952 R=0.051 F1=0.097 ROC AUC=0.784 Prevalence=0.278 \n",
      "\tTask2: P=0.000 R=0.000 F1=0.000 ROC AUC=0.845 Prevalence=0.053\n",
      "Epoch 9: training loss = 69.92207771539688  validation loss = 24.31461238861084\n"
     ]
    },
    {
     "name": "stderr",
     "output_type": "stream",
     "text": [
      "/usr/local/lib/python3.6/dist-packages/sklearn/metrics/_classification.py:1245: UndefinedMetricWarning: Precision and F-score are ill-defined and being set to 0.0 due to no predicted samples. Use `zero_division` parameter to control this behavior.\n",
      "  _warn_prf(average, modifier, msg_start, len(result))\n"
     ]
    },
    {
     "name": "stdout",
     "output_type": "stream",
     "text": [
      "  Validation Set N=1885\n",
      "\tTask1: P=0.364 R=0.016 F1=0.030 ROC AUC=0.556 Prevalence=0.267 \n",
      "\tTask2: P=0.000 R=0.000 F1=0.000 ROC AUC=0.521 Prevalence=0.062\n"
     ]
    },
    {
     "name": "stderr",
     "output_type": "stream",
     "text": [
      "/usr/local/lib/python3.6/dist-packages/sklearn/metrics/_classification.py:1245: UndefinedMetricWarning: Precision and F-score are ill-defined and being set to 0.0 due to no predicted samples. Use `zero_division` parameter to control this behavior.\n",
      "  _warn_prf(average, modifier, msg_start, len(result))\n"
     ]
    },
    {
     "name": "stdout",
     "output_type": "stream",
     "text": [
      "  Training Set N=5652\n",
      "\tTask1: P=0.966 R=0.071 F1=0.133 ROC AUC=0.802 Prevalence=0.278 \n",
      "\tTask2: P=0.000 R=0.000 F1=0.000 ROC AUC=0.855 Prevalence=0.053\n",
      "Epoch 10: training loss = 68.46462896466255  validation loss = 24.50715960562229\n"
     ]
    },
    {
     "name": "stderr",
     "output_type": "stream",
     "text": [
      "/usr/local/lib/python3.6/dist-packages/sklearn/metrics/_classification.py:1245: UndefinedMetricWarning: Precision and F-score are ill-defined and being set to 0.0 due to no predicted samples. Use `zero_division` parameter to control this behavior.\n",
      "  _warn_prf(average, modifier, msg_start, len(result))\n"
     ]
    },
    {
     "name": "stdout",
     "output_type": "stream",
     "text": [
      "  Validation Set N=1885\n",
      "\tTask1: P=0.457 R=0.032 F1=0.059 ROC AUC=0.558 Prevalence=0.267 \n",
      "\tTask2: P=0.000 R=0.000 F1=0.000 ROC AUC=0.523 Prevalence=0.062\n"
     ]
    },
    {
     "name": "stderr",
     "output_type": "stream",
     "text": [
      "/usr/local/lib/python3.6/dist-packages/sklearn/metrics/_classification.py:1245: UndefinedMetricWarning: Precision and F-score are ill-defined and being set to 0.0 due to no predicted samples. Use `zero_division` parameter to control this behavior.\n",
      "  _warn_prf(average, modifier, msg_start, len(result))\n"
     ]
    },
    {
     "name": "stdout",
     "output_type": "stream",
     "text": [
      "  Training Set N=5652\n",
      "\tTask1: P=0.974 R=0.094 F1=0.171 ROC AUC=0.823 Prevalence=0.278 \n",
      "\tTask2: P=0.000 R=0.000 F1=0.000 ROC AUC=0.870 Prevalence=0.053\n",
      "Epoch 11: training loss = 67.17564134299755  validation loss = 24.53996540606022\n"
     ]
    },
    {
     "name": "stderr",
     "output_type": "stream",
     "text": [
      "/usr/local/lib/python3.6/dist-packages/sklearn/metrics/_classification.py:1245: UndefinedMetricWarning: Precision and F-score are ill-defined and being set to 0.0 due to no predicted samples. Use `zero_division` parameter to control this behavior.\n",
      "  _warn_prf(average, modifier, msg_start, len(result))\n"
     ]
    },
    {
     "name": "stdout",
     "output_type": "stream",
     "text": [
      "  Validation Set N=1885\n",
      "\tTask1: P=0.450 R=0.036 F1=0.066 ROC AUC=0.555 Prevalence=0.267 \n",
      "\tTask2: P=0.000 R=0.000 F1=0.000 ROC AUC=0.528 Prevalence=0.062\n"
     ]
    },
    {
     "name": "stderr",
     "output_type": "stream",
     "text": [
      "/usr/local/lib/python3.6/dist-packages/sklearn/metrics/_classification.py:1245: UndefinedMetricWarning: Precision and F-score are ill-defined and being set to 0.0 due to no predicted samples. Use `zero_division` parameter to control this behavior.\n",
      "  _warn_prf(average, modifier, msg_start, len(result))\n"
     ]
    },
    {
     "name": "stdout",
     "output_type": "stream",
     "text": [
      "  Training Set N=5652\n",
      "\tTask1: P=0.983 R=0.110 F1=0.198 ROC AUC=0.846 Prevalence=0.278 \n",
      "\tTask2: P=0.000 R=0.000 F1=0.000 ROC AUC=0.882 Prevalence=0.053\n",
      "Epoch 12: training loss = 65.91584061086178  validation loss = 24.794115334749222\n"
     ]
    },
    {
     "name": "stderr",
     "output_type": "stream",
     "text": [
      "/usr/local/lib/python3.6/dist-packages/sklearn/metrics/_classification.py:1245: UndefinedMetricWarning: Precision and F-score are ill-defined and being set to 0.0 due to no predicted samples. Use `zero_division` parameter to control this behavior.\n",
      "  _warn_prf(average, modifier, msg_start, len(result))\n"
     ]
    },
    {
     "name": "stdout",
     "output_type": "stream",
     "text": [
      "  Validation Set N=1885\n",
      "\tTask1: P=0.431 R=0.050 F1=0.089 ROC AUC=0.558 Prevalence=0.267 \n",
      "\tTask2: P=0.000 R=0.000 F1=0.000 ROC AUC=0.524 Prevalence=0.062\n"
     ]
    },
    {
     "name": "stderr",
     "output_type": "stream",
     "text": [
      "/usr/local/lib/python3.6/dist-packages/sklearn/metrics/_classification.py:1245: UndefinedMetricWarning: Precision and F-score are ill-defined and being set to 0.0 due to no predicted samples. Use `zero_division` parameter to control this behavior.\n",
      "  _warn_prf(average, modifier, msg_start, len(result))\n"
     ]
    },
    {
     "name": "stdout",
     "output_type": "stream",
     "text": [
      "  Training Set N=5652\n",
      "\tTask1: P=0.985 R=0.124 F1=0.221 ROC AUC=0.860 Prevalence=0.278 \n",
      "\tTask2: P=0.000 R=0.000 F1=0.000 ROC AUC=0.895 Prevalence=0.053\n",
      "Epoch 13: training loss = 64.61537708342075  validation loss = 24.97725446522236\n"
     ]
    },
    {
     "name": "stderr",
     "output_type": "stream",
     "text": [
      "/usr/local/lib/python3.6/dist-packages/sklearn/metrics/_classification.py:1245: UndefinedMetricWarning: Precision and F-score are ill-defined and being set to 0.0 due to no predicted samples. Use `zero_division` parameter to control this behavior.\n",
      "  _warn_prf(average, modifier, msg_start, len(result))\n"
     ]
    },
    {
     "name": "stdout",
     "output_type": "stream",
     "text": [
      "  Validation Set N=1885\n",
      "\tTask1: P=0.463 R=0.062 F1=0.109 ROC AUC=0.550 Prevalence=0.267 \n",
      "\tTask2: P=0.000 R=0.000 F1=0.000 ROC AUC=0.513 Prevalence=0.062\n"
     ]
    },
    {
     "name": "stderr",
     "output_type": "stream",
     "text": [
      "/usr/local/lib/python3.6/dist-packages/sklearn/metrics/_classification.py:1245: UndefinedMetricWarning: Precision and F-score are ill-defined and being set to 0.0 due to no predicted samples. Use `zero_division` parameter to control this behavior.\n",
      "  _warn_prf(average, modifier, msg_start, len(result))\n"
     ]
    },
    {
     "name": "stdout",
     "output_type": "stream",
     "text": [
      "  Training Set N=5652\n",
      "\tTask1: P=0.982 R=0.141 F1=0.247 ROC AUC=0.876 Prevalence=0.278 \n",
      "\tTask2: P=0.000 R=0.000 F1=0.000 ROC AUC=0.905 Prevalence=0.053\n",
      "Epoch 14: training loss = 63.26523178815842  validation loss = 25.139639124274254\n"
     ]
    },
    {
     "name": "stderr",
     "output_type": "stream",
     "text": [
      "/usr/local/lib/python3.6/dist-packages/sklearn/metrics/_classification.py:1245: UndefinedMetricWarning: Precision and F-score are ill-defined and being set to 0.0 due to no predicted samples. Use `zero_division` parameter to control this behavior.\n",
      "  _warn_prf(average, modifier, msg_start, len(result))\n"
     ]
    },
    {
     "name": "stdout",
     "output_type": "stream",
     "text": [
      "  Validation Set N=1885\n",
      "\tTask1: P=0.474 R=0.073 F1=0.127 ROC AUC=0.559 Prevalence=0.267 \n",
      "\tTask2: P=0.000 R=0.000 F1=0.000 ROC AUC=0.534 Prevalence=0.062\n"
     ]
    },
    {
     "name": "stderr",
     "output_type": "stream",
     "text": [
      "/usr/local/lib/python3.6/dist-packages/sklearn/metrics/_classification.py:1245: UndefinedMetricWarning: Precision and F-score are ill-defined and being set to 0.0 due to no predicted samples. Use `zero_division` parameter to control this behavior.\n",
      "  _warn_prf(average, modifier, msg_start, len(result))\n"
     ]
    },
    {
     "name": "stdout",
     "output_type": "stream",
     "text": [
      "  Training Set N=5652\n",
      "\tTask1: P=0.986 R=0.179 F1=0.303 ROC AUC=0.885 Prevalence=0.278 \n",
      "\tTask2: P=0.000 R=0.000 F1=0.000 ROC AUC=0.916 Prevalence=0.053\n",
      "Epoch 15: training loss = 62.06352025270462  validation loss = 25.345222011208534\n"
     ]
    },
    {
     "name": "stderr",
     "output_type": "stream",
     "text": [
      "/usr/local/lib/python3.6/dist-packages/sklearn/metrics/_classification.py:1245: UndefinedMetricWarning: Precision and F-score are ill-defined and being set to 0.0 due to no predicted samples. Use `zero_division` parameter to control this behavior.\n",
      "  _warn_prf(average, modifier, msg_start, len(result))\n"
     ]
    },
    {
     "name": "stdout",
     "output_type": "stream",
     "text": [
      "  Validation Set N=1885\n",
      "\tTask1: P=0.469 R=0.091 F1=0.153 ROC AUC=0.560 Prevalence=0.267 \n",
      "\tTask2: P=0.000 R=0.000 F1=0.000 ROC AUC=0.529 Prevalence=0.062\n"
     ]
    },
    {
     "name": "stderr",
     "output_type": "stream",
     "text": [
      "/usr/local/lib/python3.6/dist-packages/sklearn/metrics/_classification.py:1245: UndefinedMetricWarning: Precision and F-score are ill-defined and being set to 0.0 due to no predicted samples. Use `zero_division` parameter to control this behavior.\n",
      "  _warn_prf(average, modifier, msg_start, len(result))\n"
     ]
    },
    {
     "name": "stdout",
     "output_type": "stream",
     "text": [
      "  Training Set N=5652\n",
      "\tTask1: P=0.989 R=0.222 F1=0.363 ROC AUC=0.897 Prevalence=0.278 \n",
      "\tTask2: P=0.000 R=0.000 F1=0.000 ROC AUC=0.923 Prevalence=0.053\n",
      "Epoch 16: training loss = 60.68253482878208  validation loss = 25.6040271371603\n"
     ]
    },
    {
     "name": "stderr",
     "output_type": "stream",
     "text": [
      "/usr/local/lib/python3.6/dist-packages/sklearn/metrics/_classification.py:1245: UndefinedMetricWarning: Precision and F-score are ill-defined and being set to 0.0 due to no predicted samples. Use `zero_division` parameter to control this behavior.\n",
      "  _warn_prf(average, modifier, msg_start, len(result))\n"
     ]
    },
    {
     "name": "stdout",
     "output_type": "stream",
     "text": [
      "  Validation Set N=1885\n",
      "\tTask1: P=0.460 R=0.091 F1=0.152 ROC AUC=0.561 Prevalence=0.267 \n",
      "\tTask2: P=0.000 R=0.000 F1=0.000 ROC AUC=0.534 Prevalence=0.062\n"
     ]
    },
    {
     "name": "stderr",
     "output_type": "stream",
     "text": [
      "/usr/local/lib/python3.6/dist-packages/sklearn/metrics/_classification.py:1245: UndefinedMetricWarning: Precision and F-score are ill-defined and being set to 0.0 due to no predicted samples. Use `zero_division` parameter to control this behavior.\n",
      "  _warn_prf(average, modifier, msg_start, len(result))\n"
     ]
    },
    {
     "name": "stdout",
     "output_type": "stream",
     "text": [
      "  Training Set N=5652\n",
      "\tTask1: P=0.989 R=0.237 F1=0.382 ROC AUC=0.906 Prevalence=0.278 \n",
      "\tTask2: P=0.000 R=0.000 F1=0.000 ROC AUC=0.929 Prevalence=0.053\n",
      "Epoch 17: training loss = 59.483821749687195  validation loss = 25.978827714920044\n"
     ]
    },
    {
     "name": "stderr",
     "output_type": "stream",
     "text": [
      "/usr/local/lib/python3.6/dist-packages/sklearn/metrics/_classification.py:1245: UndefinedMetricWarning: Precision and F-score are ill-defined and being set to 0.0 due to no predicted samples. Use `zero_division` parameter to control this behavior.\n",
      "  _warn_prf(average, modifier, msg_start, len(result))\n"
     ]
    },
    {
     "name": "stdout",
     "output_type": "stream",
     "text": [
      "  Validation Set N=1885\n",
      "\tTask1: P=0.525 R=0.123 F1=0.199 ROC AUC=0.557 Prevalence=0.267 \n",
      "\tTask2: P=0.000 R=0.000 F1=0.000 ROC AUC=0.526 Prevalence=0.062\n"
     ]
    },
    {
     "name": "stderr",
     "output_type": "stream",
     "text": [
      "/usr/local/lib/python3.6/dist-packages/sklearn/metrics/_classification.py:1245: UndefinedMetricWarning: Precision and F-score are ill-defined and being set to 0.0 due to no predicted samples. Use `zero_division` parameter to control this behavior.\n",
      "  _warn_prf(average, modifier, msg_start, len(result))\n"
     ]
    },
    {
     "name": "stdout",
     "output_type": "stream",
     "text": [
      "  Training Set N=5652\n",
      "\tTask1: P=0.993 R=0.341 F1=0.507 ROC AUC=0.911 Prevalence=0.278 \n",
      "\tTask2: P=0.000 R=0.000 F1=0.000 ROC AUC=0.934 Prevalence=0.053\n",
      "Epoch 18: training loss = 58.19235748052597  validation loss = 26.240268021821976\n"
     ]
    },
    {
     "name": "stderr",
     "output_type": "stream",
     "text": [
      "/usr/local/lib/python3.6/dist-packages/sklearn/metrics/_classification.py:1245: UndefinedMetricWarning: Precision and F-score are ill-defined and being set to 0.0 due to no predicted samples. Use `zero_division` parameter to control this behavior.\n",
      "  _warn_prf(average, modifier, msg_start, len(result))\n"
     ]
    },
    {
     "name": "stdout",
     "output_type": "stream",
     "text": [
      "  Validation Set N=1885\n",
      "\tTask1: P=0.500 R=0.141 F1=0.220 ROC AUC=0.560 Prevalence=0.267 \n",
      "\tTask2: P=0.000 R=0.000 F1=0.000 ROC AUC=0.538 Prevalence=0.062\n"
     ]
    },
    {
     "name": "stderr",
     "output_type": "stream",
     "text": [
      "/usr/local/lib/python3.6/dist-packages/sklearn/metrics/_classification.py:1245: UndefinedMetricWarning: Precision and F-score are ill-defined and being set to 0.0 due to no predicted samples. Use `zero_division` parameter to control this behavior.\n",
      "  _warn_prf(average, modifier, msg_start, len(result))\n"
     ]
    },
    {
     "name": "stdout",
     "output_type": "stream",
     "text": [
      "  Training Set N=5652\n",
      "\tTask1: P=0.993 R=0.431 F1=0.601 ROC AUC=0.915 Prevalence=0.278 \n",
      "\tTask2: P=0.000 R=0.000 F1=0.000 ROC AUC=0.937 Prevalence=0.053\n",
      "Epoch 19: training loss = 56.9880433678627  validation loss = 26.413581430912018\n"
     ]
    },
    {
     "name": "stderr",
     "output_type": "stream",
     "text": [
      "/usr/local/lib/python3.6/dist-packages/sklearn/metrics/_classification.py:1245: UndefinedMetricWarning: Precision and F-score are ill-defined and being set to 0.0 due to no predicted samples. Use `zero_division` parameter to control this behavior.\n",
      "  _warn_prf(average, modifier, msg_start, len(result))\n"
     ]
    },
    {
     "name": "stdout",
     "output_type": "stream",
     "text": [
      "  Validation Set N=1885\n",
      "\tTask1: P=0.513 R=0.161 F1=0.245 ROC AUC=0.556 Prevalence=0.267 \n",
      "\tTask2: P=0.000 R=0.000 F1=0.000 ROC AUC=0.521 Prevalence=0.062\n"
     ]
    },
    {
     "name": "stderr",
     "output_type": "stream",
     "text": [
      "/usr/local/lib/python3.6/dist-packages/sklearn/metrics/_classification.py:1245: UndefinedMetricWarning: Precision and F-score are ill-defined and being set to 0.0 due to no predicted samples. Use `zero_division` parameter to control this behavior.\n",
      "  _warn_prf(average, modifier, msg_start, len(result))\n"
     ]
    },
    {
     "name": "stdout",
     "output_type": "stream",
     "text": [
      "  Training Set N=5652\n",
      "\tTask1: P=0.993 R=0.485 F1=0.652 ROC AUC=0.922 Prevalence=0.278 \n",
      "\tTask2: P=0.000 R=0.000 F1=0.000 ROC AUC=0.942 Prevalence=0.053\n",
      "Epoch 20: training loss = 55.935776844620705  validation loss = 27.058702677488327\n"
     ]
    },
    {
     "name": "stderr",
     "output_type": "stream",
     "text": [
      "/usr/local/lib/python3.6/dist-packages/sklearn/metrics/_classification.py:1245: UndefinedMetricWarning: Precision and F-score are ill-defined and being set to 0.0 due to no predicted samples. Use `zero_division` parameter to control this behavior.\n",
      "  _warn_prf(average, modifier, msg_start, len(result))\n"
     ]
    },
    {
     "name": "stdout",
     "output_type": "stream",
     "text": [
      "  Validation Set N=1885\n",
      "\tTask1: P=0.494 R=0.155 F1=0.236 ROC AUC=0.563 Prevalence=0.267 \n",
      "\tTask2: P=0.000 R=0.000 F1=0.000 ROC AUC=0.530 Prevalence=0.062\n"
     ]
    },
    {
     "name": "stderr",
     "output_type": "stream",
     "text": [
      "/usr/local/lib/python3.6/dist-packages/sklearn/metrics/_classification.py:1245: UndefinedMetricWarning: Precision and F-score are ill-defined and being set to 0.0 due to no predicted samples. Use `zero_division` parameter to control this behavior.\n",
      "  _warn_prf(average, modifier, msg_start, len(result))\n"
     ]
    },
    {
     "name": "stdout",
     "output_type": "stream",
     "text": [
      "  Training Set N=5652\n",
      "\tTask1: P=0.994 R=0.522 F1=0.685 ROC AUC=0.925 Prevalence=0.278 \n",
      "\tTask2: P=0.000 R=0.000 F1=0.000 ROC AUC=0.943 Prevalence=0.053\n",
      "Epoch 21: training loss = 55.03062391281128  validation loss = 27.05742758512497\n"
     ]
    },
    {
     "name": "stderr",
     "output_type": "stream",
     "text": [
      "/usr/local/lib/python3.6/dist-packages/sklearn/metrics/_classification.py:1245: UndefinedMetricWarning: Precision and F-score are ill-defined and being set to 0.0 due to no predicted samples. Use `zero_division` parameter to control this behavior.\n",
      "  _warn_prf(average, modifier, msg_start, len(result))\n"
     ]
    },
    {
     "name": "stdout",
     "output_type": "stream",
     "text": [
      "  Validation Set N=1885\n",
      "\tTask1: P=0.494 R=0.161 F1=0.243 ROC AUC=0.560 Prevalence=0.267 \n",
      "\tTask2: P=0.000 R=0.000 F1=0.000 ROC AUC=0.526 Prevalence=0.062\n"
     ]
    },
    {
     "name": "stderr",
     "output_type": "stream",
     "text": [
      "/usr/local/lib/python3.6/dist-packages/sklearn/metrics/_classification.py:1245: UndefinedMetricWarning: Precision and F-score are ill-defined and being set to 0.0 due to no predicted samples. Use `zero_division` parameter to control this behavior.\n",
      "  _warn_prf(average, modifier, msg_start, len(result))\n"
     ]
    },
    {
     "name": "stdout",
     "output_type": "stream",
     "text": [
      "  Training Set N=5652\n",
      "\tTask1: P=0.991 R=0.561 F1=0.717 ROC AUC=0.930 Prevalence=0.278 \n",
      "\tTask2: P=0.000 R=0.000 F1=0.000 ROC AUC=0.945 Prevalence=0.053\n",
      "Epoch 22: training loss = 53.91405050456524  validation loss = 27.114194601774216\n"
     ]
    },
    {
     "name": "stderr",
     "output_type": "stream",
     "text": [
      "/usr/local/lib/python3.6/dist-packages/sklearn/metrics/_classification.py:1245: UndefinedMetricWarning: Precision and F-score are ill-defined and being set to 0.0 due to no predicted samples. Use `zero_division` parameter to control this behavior.\n",
      "  _warn_prf(average, modifier, msg_start, len(result))\n"
     ]
    },
    {
     "name": "stdout",
     "output_type": "stream",
     "text": [
      "  Validation Set N=1885\n",
      "\tTask1: P=0.457 R=0.190 F1=0.269 ROC AUC=0.563 Prevalence=0.267 \n",
      "\tTask2: P=0.000 R=0.000 F1=0.000 ROC AUC=0.530 Prevalence=0.062\n"
     ]
    },
    {
     "name": "stderr",
     "output_type": "stream",
     "text": [
      "/usr/local/lib/python3.6/dist-packages/sklearn/metrics/_classification.py:1245: UndefinedMetricWarning: Precision and F-score are ill-defined and being set to 0.0 due to no predicted samples. Use `zero_division` parameter to control this behavior.\n",
      "  _warn_prf(average, modifier, msg_start, len(result))\n"
     ]
    },
    {
     "name": "stdout",
     "output_type": "stream",
     "text": [
      "  Training Set N=5652\n",
      "\tTask1: P=0.989 R=0.643 F1=0.780 ROC AUC=0.933 Prevalence=0.278 \n",
      "\tTask2: P=0.000 R=0.000 F1=0.000 ROC AUC=0.946 Prevalence=0.053\n",
      "Epoch 23: training loss = 53.12215568125248  validation loss = 27.43569052219391\n",
      "  Validation Set N=1885\n",
      "\tTask1: P=0.460 R=0.194 F1=0.273 ROC AUC=0.565 Prevalence=0.267 \n",
      "\tTask2: P=0.159 R=0.060 F1=0.087 ROC AUC=0.532 Prevalence=0.062\n",
      "  Training Set N=5652\n",
      "\tTask1: P=0.991 R=0.671 F1=0.800 ROC AUC=0.937 Prevalence=0.278 \n",
      "\tTask2: P=0.854 R=0.678 F1=0.756 ROC AUC=0.950 Prevalence=0.053\n",
      "Epoch 24: training loss = 52.18052440881729  validation loss = 27.74697668850422\n"
     ]
    },
    {
     "name": "stderr",
     "output_type": "stream",
     "text": [
      "/usr/local/lib/python3.6/dist-packages/sklearn/metrics/_classification.py:1245: UndefinedMetricWarning: Precision and F-score are ill-defined and being set to 0.0 due to no predicted samples. Use `zero_division` parameter to control this behavior.\n",
      "  _warn_prf(average, modifier, msg_start, len(result))\n"
     ]
    },
    {
     "name": "stdout",
     "output_type": "stream",
     "text": [
      "  Validation Set N=1885\n",
      "\tTask1: P=0.471 R=0.196 F1=0.277 ROC AUC=0.561 Prevalence=0.267 \n",
      "\tTask2: P=0.000 R=0.000 F1=0.000 ROC AUC=0.529 Prevalence=0.062\n"
     ]
    },
    {
     "name": "stderr",
     "output_type": "stream",
     "text": [
      "/usr/local/lib/python3.6/dist-packages/sklearn/metrics/_classification.py:1245: UndefinedMetricWarning: Precision and F-score are ill-defined and being set to 0.0 due to no predicted samples. Use `zero_division` parameter to control this behavior.\n",
      "  _warn_prf(average, modifier, msg_start, len(result))\n"
     ]
    },
    {
     "name": "stdout",
     "output_type": "stream",
     "text": [
      "  Training Set N=5652\n",
      "\tTask1: P=0.980 R=0.690 F1=0.810 ROC AUC=0.943 Prevalence=0.278 \n",
      "\tTask2: P=0.000 R=0.000 F1=0.000 ROC AUC=0.952 Prevalence=0.053\n",
      "Epoch 25: training loss = 51.50225433707237  validation loss = 28.43572275340557\n"
     ]
    },
    {
     "name": "stderr",
     "output_type": "stream",
     "text": [
      "/usr/local/lib/python3.6/dist-packages/sklearn/metrics/_classification.py:1245: UndefinedMetricWarning: Precision and F-score are ill-defined and being set to 0.0 due to no predicted samples. Use `zero_division` parameter to control this behavior.\n",
      "  _warn_prf(average, modifier, msg_start, len(result))\n"
     ]
    },
    {
     "name": "stdout",
     "output_type": "stream",
     "text": [
      "  Validation Set N=1885\n",
      "\tTask1: P=0.440 R=0.202 F1=0.277 ROC AUC=0.560 Prevalence=0.267 \n",
      "\tTask2: P=0.000 R=0.000 F1=0.000 ROC AUC=0.523 Prevalence=0.062\n"
     ]
    },
    {
     "name": "stderr",
     "output_type": "stream",
     "text": [
      "/usr/local/lib/python3.6/dist-packages/sklearn/metrics/_classification.py:1245: UndefinedMetricWarning: Precision and F-score are ill-defined and being set to 0.0 due to no predicted samples. Use `zero_division` parameter to control this behavior.\n",
      "  _warn_prf(average, modifier, msg_start, len(result))\n"
     ]
    },
    {
     "name": "stdout",
     "output_type": "stream",
     "text": [
      "  Training Set N=5652\n",
      "\tTask1: P=0.984 R=0.703 F1=0.820 ROC AUC=0.947 Prevalence=0.278 \n",
      "\tTask2: P=0.000 R=0.000 F1=0.000 ROC AUC=0.953 Prevalence=0.053\n",
      "Epoch 26: training loss = 51.00338922441006  validation loss = 28.251773193478584\n"
     ]
    },
    {
     "name": "stderr",
     "output_type": "stream",
     "text": [
      "/usr/local/lib/python3.6/dist-packages/sklearn/metrics/_classification.py:1245: UndefinedMetricWarning: Precision and F-score are ill-defined and being set to 0.0 due to no predicted samples. Use `zero_division` parameter to control this behavior.\n",
      "  _warn_prf(average, modifier, msg_start, len(result))\n"
     ]
    },
    {
     "name": "stdout",
     "output_type": "stream",
     "text": [
      "  Validation Set N=1885\n",
      "\tTask1: P=0.441 R=0.206 F1=0.281 ROC AUC=0.563 Prevalence=0.267 \n",
      "\tTask2: P=0.000 R=0.000 F1=0.000 ROC AUC=0.518 Prevalence=0.062\n"
     ]
    },
    {
     "name": "stderr",
     "output_type": "stream",
     "text": [
      "/usr/local/lib/python3.6/dist-packages/sklearn/metrics/_classification.py:1245: UndefinedMetricWarning: Precision and F-score are ill-defined and being set to 0.0 due to no predicted samples. Use `zero_division` parameter to control this behavior.\n",
      "  _warn_prf(average, modifier, msg_start, len(result))\n"
     ]
    },
    {
     "name": "stdout",
     "output_type": "stream",
     "text": [
      "  Training Set N=5652\n",
      "\tTask1: P=0.981 R=0.729 F1=0.837 ROC AUC=0.950 Prevalence=0.278 \n",
      "\tTask2: P=0.000 R=0.000 F1=0.000 ROC AUC=0.957 Prevalence=0.053\n",
      "Epoch 27: training loss = 50.263581827282906  validation loss = 28.364498898386955\n"
     ]
    },
    {
     "name": "stderr",
     "output_type": "stream",
     "text": [
      "/usr/local/lib/python3.6/dist-packages/sklearn/metrics/_classification.py:1245: UndefinedMetricWarning: Precision and F-score are ill-defined and being set to 0.0 due to no predicted samples. Use `zero_division` parameter to control this behavior.\n",
      "  _warn_prf(average, modifier, msg_start, len(result))\n"
     ]
    },
    {
     "name": "stdout",
     "output_type": "stream",
     "text": [
      "  Validation Set N=1885\n",
      "\tTask1: P=0.417 R=0.204 F1=0.274 ROC AUC=0.564 Prevalence=0.267 \n",
      "\tTask2: P=0.000 R=0.000 F1=0.000 ROC AUC=0.515 Prevalence=0.062\n"
     ]
    },
    {
     "name": "stderr",
     "output_type": "stream",
     "text": [
      "/usr/local/lib/python3.6/dist-packages/sklearn/metrics/_classification.py:1245: UndefinedMetricWarning: Precision and F-score are ill-defined and being set to 0.0 due to no predicted samples. Use `zero_division` parameter to control this behavior.\n",
      "  _warn_prf(average, modifier, msg_start, len(result))\n"
     ]
    },
    {
     "name": "stdout",
     "output_type": "stream",
     "text": [
      "  Training Set N=5652\n",
      "\tTask1: P=0.984 R=0.749 F1=0.851 ROC AUC=0.955 Prevalence=0.278 \n",
      "\tTask2: P=0.000 R=0.000 F1=0.000 ROC AUC=0.960 Prevalence=0.053\n",
      "Epoch 28: training loss = 49.57835192978382  validation loss = 29.149264231324196\n"
     ]
    },
    {
     "name": "stderr",
     "output_type": "stream",
     "text": [
      "/usr/local/lib/python3.6/dist-packages/sklearn/metrics/_classification.py:1245: UndefinedMetricWarning: Precision and F-score are ill-defined and being set to 0.0 due to no predicted samples. Use `zero_division` parameter to control this behavior.\n",
      "  _warn_prf(average, modifier, msg_start, len(result))\n"
     ]
    },
    {
     "name": "stdout",
     "output_type": "stream",
     "text": [
      "  Validation Set N=1885\n",
      "\tTask1: P=0.441 R=0.216 F1=0.290 ROC AUC=0.562 Prevalence=0.267 \n",
      "\tTask2: P=0.000 R=0.000 F1=0.000 ROC AUC=0.517 Prevalence=0.062\n"
     ]
    },
    {
     "name": "stderr",
     "output_type": "stream",
     "text": [
      "/usr/local/lib/python3.6/dist-packages/sklearn/metrics/_classification.py:1245: UndefinedMetricWarning: Precision and F-score are ill-defined and being set to 0.0 due to no predicted samples. Use `zero_division` parameter to control this behavior.\n",
      "  _warn_prf(average, modifier, msg_start, len(result))\n"
     ]
    },
    {
     "name": "stdout",
     "output_type": "stream",
     "text": [
      "  Training Set N=5652\n",
      "\tTask1: P=0.986 R=0.756 F1=0.856 ROC AUC=0.958 Prevalence=0.278 \n",
      "\tTask2: P=0.000 R=0.000 F1=0.000 ROC AUC=0.962 Prevalence=0.053\n",
      "Epoch 29: training loss = 48.925644621253014  validation loss = 29.232149466872215\n",
      "  Validation Set N=1885\n",
      "\tTask1: P=0.430 R=0.220 F1=0.291 ROC AUC=0.561 Prevalence=0.267 \n",
      "\tTask2: P=0.151 R=0.069 F1=0.095 ROC AUC=0.517 Prevalence=0.062\n",
      "  Training Set N=5652\n",
      "\tTask1: P=0.986 R=0.764 F1=0.861 ROC AUC=0.961 Prevalence=0.278 \n",
      "\tTask2: P=0.853 R=0.731 F1=0.787 ROC AUC=0.966 Prevalence=0.053\n",
      "Epoch 30: training loss = 48.23554250597954  validation loss = 29.409063413739204\n"
     ]
    },
    {
     "name": "stderr",
     "output_type": "stream",
     "text": [
      "/usr/local/lib/python3.6/dist-packages/sklearn/metrics/_classification.py:1245: UndefinedMetricWarning: Precision and F-score are ill-defined and being set to 0.0 due to no predicted samples. Use `zero_division` parameter to control this behavior.\n",
      "  _warn_prf(average, modifier, msg_start, len(result))\n"
     ]
    },
    {
     "name": "stdout",
     "output_type": "stream",
     "text": [
      "  Validation Set N=1885\n",
      "\tTask1: P=0.427 R=0.216 F1=0.287 ROC AUC=0.567 Prevalence=0.267 \n",
      "\tTask2: P=0.000 R=0.000 F1=0.000 ROC AUC=0.518 Prevalence=0.062\n"
     ]
    },
    {
     "name": "stderr",
     "output_type": "stream",
     "text": [
      "/usr/local/lib/python3.6/dist-packages/sklearn/metrics/_classification.py:1245: UndefinedMetricWarning: Precision and F-score are ill-defined and being set to 0.0 due to no predicted samples. Use `zero_division` parameter to control this behavior.\n",
      "  _warn_prf(average, modifier, msg_start, len(result))\n"
     ]
    },
    {
     "name": "stdout",
     "output_type": "stream",
     "text": [
      "  Training Set N=5652\n",
      "\tTask1: P=0.986 R=0.780 F1=0.871 ROC AUC=0.964 Prevalence=0.278 \n",
      "\tTask2: P=0.000 R=0.000 F1=0.000 ROC AUC=0.967 Prevalence=0.053\n",
      "Epoch 31: training loss = 47.7922353297472  validation loss = 30.04516237974167\n"
     ]
    },
    {
     "name": "stderr",
     "output_type": "stream",
     "text": [
      "/usr/local/lib/python3.6/dist-packages/sklearn/metrics/_classification.py:1245: UndefinedMetricWarning: Precision and F-score are ill-defined and being set to 0.0 due to no predicted samples. Use `zero_division` parameter to control this behavior.\n",
      "  _warn_prf(average, modifier, msg_start, len(result))\n"
     ]
    },
    {
     "name": "stdout",
     "output_type": "stream",
     "text": [
      "  Validation Set N=1885\n",
      "\tTask1: P=0.430 R=0.218 F1=0.289 ROC AUC=0.564 Prevalence=0.267 \n",
      "\tTask2: P=0.000 R=0.000 F1=0.000 ROC AUC=0.513 Prevalence=0.062\n"
     ]
    },
    {
     "name": "stderr",
     "output_type": "stream",
     "text": [
      "/usr/local/lib/python3.6/dist-packages/sklearn/metrics/_classification.py:1245: UndefinedMetricWarning: Precision and F-score are ill-defined and being set to 0.0 due to no predicted samples. Use `zero_division` parameter to control this behavior.\n",
      "  _warn_prf(average, modifier, msg_start, len(result))\n"
     ]
    },
    {
     "name": "stdout",
     "output_type": "stream",
     "text": [
      "  Training Set N=5652\n",
      "\tTask1: P=0.989 R=0.771 F1=0.867 ROC AUC=0.967 Prevalence=0.278 \n",
      "\tTask2: P=0.000 R=0.000 F1=0.000 ROC AUC=0.968 Prevalence=0.053\n",
      "Epoch 32: training loss = 47.235728070139885  validation loss = 30.292611673474312\n"
     ]
    },
    {
     "name": "stderr",
     "output_type": "stream",
     "text": [
      "/usr/local/lib/python3.6/dist-packages/sklearn/metrics/_classification.py:1245: UndefinedMetricWarning: Precision and F-score are ill-defined and being set to 0.0 due to no predicted samples. Use `zero_division` parameter to control this behavior.\n",
      "  _warn_prf(average, modifier, msg_start, len(result))\n"
     ]
    },
    {
     "name": "stdout",
     "output_type": "stream",
     "text": [
      "  Validation Set N=1885\n",
      "\tTask1: P=0.403 R=0.236 F1=0.298 ROC AUC=0.565 Prevalence=0.267 \n",
      "\tTask2: P=0.000 R=0.000 F1=0.000 ROC AUC=0.519 Prevalence=0.062\n"
     ]
    },
    {
     "name": "stderr",
     "output_type": "stream",
     "text": [
      "/usr/local/lib/python3.6/dist-packages/sklearn/metrics/_classification.py:1245: UndefinedMetricWarning: Precision and F-score are ill-defined and being set to 0.0 due to no predicted samples. Use `zero_division` parameter to control this behavior.\n",
      "  _warn_prf(average, modifier, msg_start, len(result))\n"
     ]
    },
    {
     "name": "stdout",
     "output_type": "stream",
     "text": [
      "  Training Set N=5652\n",
      "\tTask1: P=0.981 R=0.805 F1=0.885 ROC AUC=0.968 Prevalence=0.278 \n",
      "\tTask2: P=0.000 R=0.000 F1=0.000 ROC AUC=0.968 Prevalence=0.053\n",
      "Epoch 33: training loss = 46.78865006566048  validation loss = 30.369706749916077\n"
     ]
    },
    {
     "name": "stderr",
     "output_type": "stream",
     "text": [
      "/usr/local/lib/python3.6/dist-packages/sklearn/metrics/_classification.py:1245: UndefinedMetricWarning: Precision and F-score are ill-defined and being set to 0.0 due to no predicted samples. Use `zero_division` parameter to control this behavior.\n",
      "  _warn_prf(average, modifier, msg_start, len(result))\n"
     ]
    },
    {
     "name": "stdout",
     "output_type": "stream",
     "text": [
      "  Validation Set N=1885\n",
      "\tTask1: P=0.412 R=0.236 F1=0.300 ROC AUC=0.568 Prevalence=0.267 \n",
      "\tTask2: P=0.000 R=0.000 F1=0.000 ROC AUC=0.513 Prevalence=0.062\n"
     ]
    },
    {
     "name": "stderr",
     "output_type": "stream",
     "text": [
      "/usr/local/lib/python3.6/dist-packages/sklearn/metrics/_classification.py:1245: UndefinedMetricWarning: Precision and F-score are ill-defined and being set to 0.0 due to no predicted samples. Use `zero_division` parameter to control this behavior.\n",
      "  _warn_prf(average, modifier, msg_start, len(result))\n"
     ]
    },
    {
     "name": "stdout",
     "output_type": "stream",
     "text": [
      "  Training Set N=5652\n",
      "\tTask1: P=0.983 R=0.817 F1=0.892 ROC AUC=0.970 Prevalence=0.278 \n",
      "\tTask2: P=0.000 R=0.000 F1=0.000 ROC AUC=0.970 Prevalence=0.053\n",
      "Epoch 34: training loss = 46.078516244888306  validation loss = 30.938506111502647\n"
     ]
    },
    {
     "name": "stderr",
     "output_type": "stream",
     "text": [
      "/usr/local/lib/python3.6/dist-packages/sklearn/metrics/_classification.py:1245: UndefinedMetricWarning: Precision and F-score are ill-defined and being set to 0.0 due to no predicted samples. Use `zero_division` parameter to control this behavior.\n",
      "  _warn_prf(average, modifier, msg_start, len(result))\n"
     ]
    },
    {
     "name": "stdout",
     "output_type": "stream",
     "text": [
      "  Validation Set N=1885\n",
      "\tTask1: P=0.425 R=0.226 F1=0.295 ROC AUC=0.559 Prevalence=0.267 \n",
      "\tTask2: P=0.000 R=0.000 F1=0.000 ROC AUC=0.497 Prevalence=0.062\n"
     ]
    },
    {
     "name": "stderr",
     "output_type": "stream",
     "text": [
      "/usr/local/lib/python3.6/dist-packages/sklearn/metrics/_classification.py:1245: UndefinedMetricWarning: Precision and F-score are ill-defined and being set to 0.0 due to no predicted samples. Use `zero_division` parameter to control this behavior.\n",
      "  _warn_prf(average, modifier, msg_start, len(result))\n"
     ]
    },
    {
     "name": "stdout",
     "output_type": "stream",
     "text": [
      "  Training Set N=5652\n",
      "\tTask1: P=0.985 R=0.818 F1=0.894 ROC AUC=0.974 Prevalence=0.278 \n",
      "\tTask2: P=0.000 R=0.000 F1=0.000 ROC AUC=0.973 Prevalence=0.053\n",
      "Epoch 35: training loss = 45.609911397099495  validation loss = 30.67052271962166\n"
     ]
    },
    {
     "name": "stderr",
     "output_type": "stream",
     "text": [
      "/usr/local/lib/python3.6/dist-packages/sklearn/metrics/_classification.py:1245: UndefinedMetricWarning: Precision and F-score are ill-defined and being set to 0.0 due to no predicted samples. Use `zero_division` parameter to control this behavior.\n",
      "  _warn_prf(average, modifier, msg_start, len(result))\n"
     ]
    },
    {
     "name": "stdout",
     "output_type": "stream",
     "text": [
      "  Validation Set N=1885\n",
      "\tTask1: P=0.407 R=0.262 F1=0.319 ROC AUC=0.569 Prevalence=0.267 \n",
      "\tTask2: P=0.000 R=0.000 F1=0.000 ROC AUC=0.522 Prevalence=0.062\n"
     ]
    },
    {
     "name": "stderr",
     "output_type": "stream",
     "text": [
      "/usr/local/lib/python3.6/dist-packages/sklearn/metrics/_classification.py:1245: UndefinedMetricWarning: Precision and F-score are ill-defined and being set to 0.0 due to no predicted samples. Use `zero_division` parameter to control this behavior.\n",
      "  _warn_prf(average, modifier, msg_start, len(result))\n"
     ]
    },
    {
     "name": "stdout",
     "output_type": "stream",
     "text": [
      "  Training Set N=5652\n",
      "\tTask1: P=0.984 R=0.836 F1=0.904 ROC AUC=0.975 Prevalence=0.278 \n",
      "\tTask2: P=0.000 R=0.000 F1=0.000 ROC AUC=0.971 Prevalence=0.053\n",
      "Epoch 36: training loss = 45.11854627728462  validation loss = 31.278813615441322\n"
     ]
    },
    {
     "name": "stderr",
     "output_type": "stream",
     "text": [
      "/usr/local/lib/python3.6/dist-packages/sklearn/metrics/_classification.py:1245: UndefinedMetricWarning: Precision and F-score are ill-defined and being set to 0.0 due to no predicted samples. Use `zero_division` parameter to control this behavior.\n",
      "  _warn_prf(average, modifier, msg_start, len(result))\n"
     ]
    },
    {
     "name": "stdout",
     "output_type": "stream",
     "text": [
      "  Validation Set N=1885\n",
      "\tTask1: P=0.411 R=0.248 F1=0.309 ROC AUC=0.563 Prevalence=0.267 \n",
      "\tTask2: P=0.000 R=0.000 F1=0.000 ROC AUC=0.506 Prevalence=0.062\n"
     ]
    },
    {
     "name": "stderr",
     "output_type": "stream",
     "text": [
      "/usr/local/lib/python3.6/dist-packages/sklearn/metrics/_classification.py:1245: UndefinedMetricWarning: Precision and F-score are ill-defined and being set to 0.0 due to no predicted samples. Use `zero_division` parameter to control this behavior.\n",
      "  _warn_prf(average, modifier, msg_start, len(result))\n"
     ]
    },
    {
     "name": "stdout",
     "output_type": "stream",
     "text": [
      "  Training Set N=5652\n",
      "\tTask1: P=0.984 R=0.834 F1=0.903 ROC AUC=0.977 Prevalence=0.278 \n",
      "\tTask2: P=0.000 R=0.000 F1=0.000 ROC AUC=0.974 Prevalence=0.053\n",
      "Epoch 37: training loss = 44.72360184788704  validation loss = 31.10697627067566\n"
     ]
    },
    {
     "name": "stderr",
     "output_type": "stream",
     "text": [
      "/usr/local/lib/python3.6/dist-packages/sklearn/metrics/_classification.py:1245: UndefinedMetricWarning: Precision and F-score are ill-defined and being set to 0.0 due to no predicted samples. Use `zero_division` parameter to control this behavior.\n",
      "  _warn_prf(average, modifier, msg_start, len(result))\n"
     ]
    },
    {
     "name": "stdout",
     "output_type": "stream",
     "text": [
      "  Validation Set N=1885\n",
      "\tTask1: P=0.389 R=0.260 F1=0.312 ROC AUC=0.567 Prevalence=0.267 \n",
      "\tTask2: P=0.000 R=0.000 F1=0.000 ROC AUC=0.529 Prevalence=0.062\n"
     ]
    },
    {
     "name": "stderr",
     "output_type": "stream",
     "text": [
      "/usr/local/lib/python3.6/dist-packages/sklearn/metrics/_classification.py:1245: UndefinedMetricWarning: Precision and F-score are ill-defined and being set to 0.0 due to no predicted samples. Use `zero_division` parameter to control this behavior.\n",
      "  _warn_prf(average, modifier, msg_start, len(result))\n"
     ]
    },
    {
     "name": "stdout",
     "output_type": "stream",
     "text": [
      "  Training Set N=5652\n",
      "\tTask1: P=0.984 R=0.842 F1=0.907 ROC AUC=0.978 Prevalence=0.278 \n",
      "\tTask2: P=0.000 R=0.000 F1=0.000 ROC AUC=0.974 Prevalence=0.053\n",
      "Epoch 38: training loss = 44.302220433950424  validation loss = 31.345990121364594\n",
      "  Validation Set N=1885\n",
      "\tTask1: P=0.383 R=0.238 F1=0.294 ROC AUC=0.563 Prevalence=0.267 \n",
      "\tTask2: P=0.151 R=0.069 F1=0.095 ROC AUC=0.515 Prevalence=0.062\n",
      "  Training Set N=5652\n",
      "\tTask1: P=0.984 R=0.848 F1=0.911 ROC AUC=0.980 Prevalence=0.278 \n",
      "\tTask2: P=0.902 R=0.794 F1=0.845 ROC AUC=0.976 Prevalence=0.053\n",
      "Epoch 39: training loss = 43.844635516405106  validation loss = 31.998959615826607\n"
     ]
    },
    {
     "name": "stderr",
     "output_type": "stream",
     "text": [
      "/usr/local/lib/python3.6/dist-packages/sklearn/metrics/_classification.py:1245: UndefinedMetricWarning: Precision and F-score are ill-defined and being set to 0.0 due to no predicted samples. Use `zero_division` parameter to control this behavior.\n",
      "  _warn_prf(average, modifier, msg_start, len(result))\n"
     ]
    },
    {
     "name": "stdout",
     "output_type": "stream",
     "text": [
      "  Validation Set N=1885\n",
      "\tTask1: P=0.406 R=0.258 F1=0.316 ROC AUC=0.563 Prevalence=0.267 \n",
      "\tTask2: P=0.000 R=0.000 F1=0.000 ROC AUC=0.507 Prevalence=0.062\n"
     ]
    },
    {
     "name": "stderr",
     "output_type": "stream",
     "text": [
      "/usr/local/lib/python3.6/dist-packages/sklearn/metrics/_classification.py:1245: UndefinedMetricWarning: Precision and F-score are ill-defined and being set to 0.0 due to no predicted samples. Use `zero_division` parameter to control this behavior.\n",
      "  _warn_prf(average, modifier, msg_start, len(result))\n"
     ]
    },
    {
     "name": "stdout",
     "output_type": "stream",
     "text": [
      "  Training Set N=5652\n",
      "\tTask1: P=0.984 R=0.849 F1=0.912 ROC AUC=0.982 Prevalence=0.278 \n",
      "\tTask2: P=0.000 R=0.000 F1=0.000 ROC AUC=0.977 Prevalence=0.053\n",
      "Epoch 40: training loss = 43.53305572271347  validation loss = 32.10397186875343\n"
     ]
    },
    {
     "name": "stderr",
     "output_type": "stream",
     "text": [
      "/usr/local/lib/python3.6/dist-packages/sklearn/metrics/_classification.py:1245: UndefinedMetricWarning: Precision and F-score are ill-defined and being set to 0.0 due to no predicted samples. Use `zero_division` parameter to control this behavior.\n",
      "  _warn_prf(average, modifier, msg_start, len(result))\n"
     ]
    },
    {
     "name": "stdout",
     "output_type": "stream",
     "text": [
      "  Validation Set N=1885\n",
      "\tTask1: P=0.398 R=0.262 F1=0.316 ROC AUC=0.563 Prevalence=0.267 \n",
      "\tTask2: P=0.000 R=0.000 F1=0.000 ROC AUC=0.511 Prevalence=0.062\n"
     ]
    },
    {
     "name": "stderr",
     "output_type": "stream",
     "text": [
      "/usr/local/lib/python3.6/dist-packages/sklearn/metrics/_classification.py:1245: UndefinedMetricWarning: Precision and F-score are ill-defined and being set to 0.0 due to no predicted samples. Use `zero_division` parameter to control this behavior.\n",
      "  _warn_prf(average, modifier, msg_start, len(result))\n"
     ]
    },
    {
     "name": "stdout",
     "output_type": "stream",
     "text": [
      "  Training Set N=5652\n",
      "\tTask1: P=0.984 R=0.854 F1=0.914 ROC AUC=0.983 Prevalence=0.278 \n",
      "\tTask2: P=0.000 R=0.000 F1=0.000 ROC AUC=0.977 Prevalence=0.053\n",
      "Epoch 41: training loss = 43.14831605553627  validation loss = 32.2246417850256\n",
      "  Validation Set N=1885\n",
      "\tTask1: P=0.393 R=0.260 F1=0.313 ROC AUC=0.566 Prevalence=0.267 \n",
      "\tTask2: P=0.143 R=0.078 F1=0.101 ROC AUC=0.522 Prevalence=0.062\n",
      "  Training Set N=5652\n",
      "\tTask1: P=0.985 R=0.857 F1=0.917 ROC AUC=0.983 Prevalence=0.278 \n",
      "\tTask2: P=0.888 R=0.791 F1=0.837 ROC AUC=0.977 Prevalence=0.053\n",
      "Epoch 42: training loss = 42.841002359986305  validation loss = 32.212744772434235\n",
      "  Validation Set N=1885\n",
      "\tTask1: P=0.381 R=0.254 F1=0.305 ROC AUC=0.563 Prevalence=0.267 \n",
      "\tTask2: P=0.115 R=0.060 F1=0.079 ROC AUC=0.522 Prevalence=0.062\n",
      "  Training Set N=5652\n",
      "\tTask1: P=0.985 R=0.864 F1=0.921 ROC AUC=0.985 Prevalence=0.278 \n",
      "\tTask2: P=0.912 R=0.831 F1=0.870 ROC AUC=0.978 Prevalence=0.053\n",
      "Epoch 43: training loss = 42.47258086502552  validation loss = 32.55890220403671\n"
     ]
    },
    {
     "name": "stderr",
     "output_type": "stream",
     "text": [
      "/usr/local/lib/python3.6/dist-packages/sklearn/metrics/_classification.py:1245: UndefinedMetricWarning: Precision and F-score are ill-defined and being set to 0.0 due to no predicted samples. Use `zero_division` parameter to control this behavior.\n",
      "  _warn_prf(average, modifier, msg_start, len(result))\n"
     ]
    },
    {
     "name": "stdout",
     "output_type": "stream",
     "text": [
      "  Validation Set N=1885\n",
      "\tTask1: P=0.399 R=0.250 F1=0.307 ROC AUC=0.560 Prevalence=0.267 \n",
      "\tTask2: P=0.000 R=0.000 F1=0.000 ROC AUC=0.514 Prevalence=0.062\n"
     ]
    },
    {
     "name": "stderr",
     "output_type": "stream",
     "text": [
      "/usr/local/lib/python3.6/dist-packages/sklearn/metrics/_classification.py:1245: UndefinedMetricWarning: Precision and F-score are ill-defined and being set to 0.0 due to no predicted samples. Use `zero_division` parameter to control this behavior.\n",
      "  _warn_prf(average, modifier, msg_start, len(result))\n"
     ]
    },
    {
     "name": "stdout",
     "output_type": "stream",
     "text": [
      "  Training Set N=5652\n",
      "\tTask1: P=0.984 R=0.866 F1=0.921 ROC AUC=0.986 Prevalence=0.278 \n",
      "\tTask2: P=0.000 R=0.000 F1=0.000 ROC AUC=0.981 Prevalence=0.053\n",
      "Epoch 44: training loss = 42.167095229029655  validation loss = 32.58425681293011\n",
      "  Validation Set N=1885\n",
      "\tTask1: P=0.383 R=0.278 F1=0.322 ROC AUC=0.558 Prevalence=0.267 \n",
      "\tTask2: P=0.117 R=0.060 F1=0.080 ROC AUC=0.510 Prevalence=0.062\n",
      "  Training Set N=5652\n",
      "\tTask1: P=0.984 R=0.882 F1=0.930 ROC AUC=0.987 Prevalence=0.278 \n",
      "\tTask2: P=0.891 R=0.814 F1=0.851 ROC AUC=0.980 Prevalence=0.053\n",
      "Epoch 45: training loss = 41.95675419270992  validation loss = 33.024183332920074\n",
      "  Validation Set N=1885\n",
      "\tTask1: P=0.390 R=0.268 F1=0.318 ROC AUC=0.557 Prevalence=0.267 \n",
      "\tTask2: P=0.115 R=0.060 F1=0.079 ROC AUC=0.513 Prevalence=0.062\n",
      "  Training Set N=5652\n",
      "\tTask1: P=0.987 R=0.880 F1=0.930 ROC AUC=0.987 Prevalence=0.278 \n",
      "\tTask2: P=0.900 R=0.811 F1=0.853 ROC AUC=0.980 Prevalence=0.053\n",
      "Epoch 46: training loss = 41.693401619791985  validation loss = 33.19085241854191\n"
     ]
    },
    {
     "name": "stderr",
     "output_type": "stream",
     "text": [
      "/usr/local/lib/python3.6/dist-packages/sklearn/metrics/_classification.py:1245: UndefinedMetricWarning: Precision and F-score are ill-defined and being set to 0.0 due to no predicted samples. Use `zero_division` parameter to control this behavior.\n",
      "  _warn_prf(average, modifier, msg_start, len(result))\n"
     ]
    },
    {
     "name": "stdout",
     "output_type": "stream",
     "text": [
      "  Validation Set N=1885\n",
      "\tTask1: P=0.388 R=0.250 F1=0.304 ROC AUC=0.558 Prevalence=0.267 \n",
      "\tTask2: P=0.000 R=0.000 F1=0.000 ROC AUC=0.515 Prevalence=0.062\n"
     ]
    },
    {
     "name": "stderr",
     "output_type": "stream",
     "text": [
      "/usr/local/lib/python3.6/dist-packages/sklearn/metrics/_classification.py:1245: UndefinedMetricWarning: Precision and F-score are ill-defined and being set to 0.0 due to no predicted samples. Use `zero_division` parameter to control this behavior.\n",
      "  _warn_prf(average, modifier, msg_start, len(result))\n"
     ]
    },
    {
     "name": "stdout",
     "output_type": "stream",
     "text": [
      "  Training Set N=5652\n",
      "\tTask1: P=0.988 R=0.882 F1=0.932 ROC AUC=0.988 Prevalence=0.278 \n",
      "\tTask2: P=0.000 R=0.000 F1=0.000 ROC AUC=0.981 Prevalence=0.053\n",
      "Epoch 47: training loss = 41.419236332178116  validation loss = 33.21016310155392\n"
     ]
    },
    {
     "name": "stderr",
     "output_type": "stream",
     "text": [
      "/usr/local/lib/python3.6/dist-packages/sklearn/metrics/_classification.py:1245: UndefinedMetricWarning: Precision and F-score are ill-defined and being set to 0.0 due to no predicted samples. Use `zero_division` parameter to control this behavior.\n",
      "  _warn_prf(average, modifier, msg_start, len(result))\n"
     ]
    },
    {
     "name": "stdout",
     "output_type": "stream",
     "text": [
      "  Validation Set N=1885\n",
      "\tTask1: P=0.395 R=0.254 F1=0.309 ROC AUC=0.555 Prevalence=0.267 \n",
      "\tTask2: P=0.000 R=0.000 F1=0.000 ROC AUC=0.509 Prevalence=0.062\n"
     ]
    },
    {
     "name": "stderr",
     "output_type": "stream",
     "text": [
      "/usr/local/lib/python3.6/dist-packages/sklearn/metrics/_classification.py:1245: UndefinedMetricWarning: Precision and F-score are ill-defined and being set to 0.0 due to no predicted samples. Use `zero_division` parameter to control this behavior.\n",
      "  _warn_prf(average, modifier, msg_start, len(result))\n"
     ]
    },
    {
     "name": "stdout",
     "output_type": "stream",
     "text": [
      "  Training Set N=5652\n",
      "\tTask1: P=0.987 R=0.887 F1=0.934 ROC AUC=0.989 Prevalence=0.278 \n",
      "\tTask2: P=0.000 R=0.000 F1=0.000 ROC AUC=0.982 Prevalence=0.053\n",
      "Epoch 48: training loss = 41.162488386034966  validation loss = 33.22591896355152\n",
      "  Validation Set N=1885\n",
      "\tTask1: P=0.385 R=0.262 F1=0.312 ROC AUC=0.561 Prevalence=0.267 \n",
      "\tTask2: P=0.111 R=0.060 F1=0.078 ROC AUC=0.522 Prevalence=0.062\n",
      "  Training Set N=5652\n",
      "\tTask1: P=0.987 R=0.891 F1=0.936 ROC AUC=0.990 Prevalence=0.278 \n",
      "\tTask2: P=0.906 R=0.804 F1=0.852 ROC AUC=0.982 Prevalence=0.053\n",
      "Epoch 49: training loss = 40.89349615573883  validation loss = 33.67432586848736\n",
      "  Validation Set N=1885\n",
      "\tTask1: P=0.381 R=0.248 F1=0.300 ROC AUC=0.555 Prevalence=0.267 \n",
      "\tTask2: P=0.000 R=0.000 F1=0.000 ROC AUC=0.510 Prevalence=0.062\n"
     ]
    },
    {
     "name": "stderr",
     "output_type": "stream",
     "text": [
      "/usr/local/lib/python3.6/dist-packages/sklearn/metrics/_classification.py:1245: UndefinedMetricWarning: Precision and F-score are ill-defined and being set to 0.0 due to no predicted samples. Use `zero_division` parameter to control this behavior.\n",
      "  _warn_prf(average, modifier, msg_start, len(result))\n"
     ]
    },
    {
     "name": "stdout",
     "output_type": "stream",
     "text": [
      "  Training Set N=5652\n",
      "\tTask1: P=0.987 R=0.894 F1=0.938 ROC AUC=0.990 Prevalence=0.278 \n",
      "\tTask2: P=0.000 R=0.000 F1=0.000 ROC AUC=0.982 Prevalence=0.053\n"
     ]
    },
    {
     "name": "stderr",
     "output_type": "stream",
     "text": [
      "/usr/local/lib/python3.6/dist-packages/sklearn/metrics/_classification.py:1245: UndefinedMetricWarning: Precision and F-score are ill-defined and being set to 0.0 due to no predicted samples. Use `zero_division` parameter to control this behavior.\n",
      "  _warn_prf(average, modifier, msg_start, len(result))\n"
     ]
    }
   ],
   "source": [
    "def train(model, train_loader, val_loader, combined_loader, n_epochs):\n",
    "    model.train()\n",
    "    for epoch in range(n_epochs):\n",
    "        train_loss = 0\n",
    "        for x, x_other, masks, y in train_loader:\n",
    "            optimizer.zero_grad()\n",
    "            y_pred = model.forward(x, x_other, masks)\n",
    "            # loss = criterion(torch.flatten(y_pred), torch.flatten(y))\n",
    "            all_linear1_params = torch.cat([x.view(-1) for x in model.linear1.parameters()])\n",
    "            all_linear2_params = torch.cat([x.view(-1) for x in model.linear2.parameters()])\n",
    "            l1_regularization = 0.01 * torch.norm(all_linear1_params, 1) + 0.01 * torch.norm(all_linear2_params, 1)\n",
    "            l2_regularization = 0.001 * torch.norm(all_linear1_params, 2) + 0.001 * torch.norm(all_linear2_params, 2)\n",
    "            loss = criterion(torch.flatten(y_pred), torch.flatten(y)) + l1_regularization + l2_regularization\n",
    "            loss.backward()\n",
    "            optimizer.step()\n",
    "            train_loss+=loss.item()\n",
    "        val_loss = 0\n",
    "        for x, x_other, masks, y in val_loader:\n",
    "            optimizer.zero_grad()\n",
    "            y_pred = model.forward(x, x_other, masks)\n",
    "            loss = criterion(torch.flatten(y_pred), torch.flatten(y))\n",
    "            loss.backward()\n",
    "            val_loss+=loss.item()\n",
    "        print('Epoch {}: training loss = {}  validation loss = {}'.format(epoch, train_loss, val_loss))\n",
    "        precision1, recall1, f11, roc_auc1, precision2, recall2, f12, roc_auc2, n, p1, p2 = eval_model(model, val_loader)\n",
    "        print('  Validation Set N={}\\n\\tTask1: P={:.3f} R={:.3f} F1={:.3f} ROC AUC={:.3f} Prevalence={:.3f} \\n\\tTask2: P={:.3f} R={:.3f} F1={:.3f} ROC AUC={:.3f} Prevalence={:.3f}'.format(n, precision1, recall1, f11, roc_auc1, p1/n, precision2, recall2, f12, roc_auc2, p2/n))\n",
    "        precision1, recall1, f11, roc_auc1, precision2, recall2, f12, roc_auc2, n, p1, p2 = eval_model(model, train_loader)\n",
    "        print('  Training Set N={}\\n\\tTask1: P={:.3f} R={:.3f} F1={:.3f} ROC AUC={:.3f} Prevalence={:.3f} \\n\\tTask2: P={:.3f} R={:.3f} F1={:.3f} ROC AUC={:.3f} Prevalence={:.3f}'.format(n, precision1, recall1, f11, roc_auc1, p1/n, precision2, recall2, f12, roc_auc2, p2/n))\n",
    "        # precision1, recall1, f11, roc_auc1, precision2, recall2, f12, roc_auc2, n, p1, p2 = eval_model(model, combined_loader)\n",
    "        # print('  Combined Set N={}\\n\\tTask1: P={:.3f} R={:.3f} F1={:.3f} ROC AUC={:.3f} Prevalence={:.3f} \\n\\tTask2: P={:.3f} R={:.3f} F1={:.3f} ROC AUC={:.3f} Prevalence={:.3f}'.format(n, precision1, recall1, f11, roc_auc1, p1/n, precision2, recall2, f12, roc_auc2, p2/n))\n",
    "        \n",
    "# number of epochs to train the model\n",
    "n_epochs = 50\n",
    "train(naive_rnn, train_loader, val_loader, combined_loader, n_epochs)"
   ]
  },
  {
   "cell_type": "code",
   "execution_count": null,
   "metadata": {},
   "outputs": [],
   "source": []
  },
  {
   "cell_type": "code",
   "execution_count": null,
   "metadata": {},
   "outputs": [],
   "source": []
  },
  {
   "cell_type": "code",
   "execution_count": null,
   "metadata": {},
   "outputs": [],
   "source": []
  }
 ],
 "metadata": {
  "kernelspec": {
   "display_name": "Python 3",
   "language": "python",
   "name": "python3"
  },
  "language_info": {
   "codemirror_mode": {
    "name": "ipython",
    "version": 3
   },
   "file_extension": ".py",
   "mimetype": "text/x-python",
   "name": "python",
   "nbconvert_exporter": "python",
   "pygments_lexer": "ipython3",
   "version": "3.6.9"
  }
 },
 "nbformat": 4,
 "nbformat_minor": 2
}
